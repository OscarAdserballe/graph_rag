{
 "cells": [
  {
   "cell_type": "markdown",
   "metadata": {},
   "source": [
    "# Outline:\n",
    "\n",
    "## Pre-reqs\n",
    "1. FileNode model\n",
    "2. Embedding model\n",
    "3. LLM for featurisation\n",
    "\n",
    "## Execution \n",
    "1. Grab all files markdown files from Obsidian-vault\n",
    "2. Create FileNodes based on them\n",
    "3. Featurise to LLMNode\n",
    "5. Collect them to a full Node\n",
    "6. Place them in small Neo4j database "
   ]
  },
  {
   "cell_type": "markdown",
   "metadata": {},
   "source": [
    "## Config"
   ]
  },
  {
   "cell_type": "code",
   "execution_count": 5,
   "metadata": {},
   "outputs": [],
   "source": [
    "BASE_LLM_MODEL = \"gemini-2.0-flash\"\n",
    "EMBEDDING_MODEL = \"text-embedding-004\""
   ]
  },
  {
   "cell_type": "markdown",
   "metadata": {},
   "source": [
    "# Pre-reqs"
   ]
  },
  {
   "cell_type": "markdown",
   "metadata": {},
   "source": [
    "### 1. Node model"
   ]
  },
  {
   "cell_type": "code",
   "execution_count": 77,
   "metadata": {},
   "outputs": [],
   "source": [
    "from datetime import datetime\n",
    "\n",
    "from pydantic import BaseModel, Field\n",
    "from datetime import datetime\n",
    "\n",
    "class FileNode(BaseModel):\n",
    "    \"\"\"Properties extracted directly from the file system and file content\"\"\"\n",
    "    primary_id: str = Field(description=\"Hash based on first and last 1024 characters of file uniquely identifying node.\\\n",
    "    Ontology of node is thus its content rather than anything reliant on metadata. Note issue with not registering changes in the middle\")\n",
    "    content: str = Field(description=\"The underlying content of the node\")\n",
    "    file_size: float = Field(description=\"Size of the node file in KB\")\n",
    "    file_creation_time: datetime = Field(description=\"Date the node was created\")\n",
    "    file_modification_time: datetime = Field(description=\"Date the node was last modified\")\n",
    "    filetype: str = Field(description=\"File type of the content\")\n",
    "    location: str = Field(description=\"Location of the node (e.g., Notion, Local Files, OneDrive)\")\n",
    "    path: str = Field(description=\"Path to the node file\")\n",
    "    chunks_to_embeddings: dict[str, list[float]] = Field(description=\"Chunks of the node content\")\n",
    " \n",
    "class LLMNode(BaseModel):\n",
    "    label: str = Field(description=\"The type of content contained in the node\")\n",
    "    author: list[str] = Field(description=\"The author(s) of the content if it appears in the text\")\n",
    "    problem_space: list[str] = Field(description=\"The problem space(s) the content is related to\")\n",
    "    research_question: str = Field(description=\"Research question addressed by the node content\")\n",
    "    main_argument: str = Field(description=\"Main argument of the node content\")\n",
    "    summary: str = Field(description=\"Summary of the node content\")\n",
    "    domain: str = Field(description=\"Domain of the node content\")\n",
    "    tags: list[str] = Field(description=\"Tags associated with the node. \")\n",
    "    themes: list[str] = Field(description=\"Themes related to the node's content. \")\n",
    "    keywords: list[str] = Field(description=\"Keywords related to the node's content. \")\n",
    "    quotes: list[str] = Field(description=\"Notable quotes from the node. List only a couple based on the length of the text. For example, a short text should only have 2-3 while longer papers should be upwards of 10\")\n",
    "    content_creation_date: datetime = Field(description=\"When the node file was from if there are hints in the text, otherwise use the current date\")\n",
    "    entities_persons: list[str] = Field(description=\"People mentioned in the node\")\n",
    "    entities_places: list[str] = Field(description=\"Places mentioned in the node\")\n",
    "    entities_organizations: list[str] = Field(description=\"Organizations mentioned in the node\")\n",
    "    entities_references: list[str] = Field(description=\"References mentioned in the node\")\n",
    "\n",
    "class Node(FileNode, LLMNode):\n",
    "    \"\"\"Combined node inheriting all properties from FileNode and LLMNode\"\"\"\n",
    "    \n",
    "    @classmethod\n",
    "    def from_components(cls, file: FileNode, llm: LLMNode) -> \"Node\":\n",
    "        \"\"\"Create a Node instance from separate FileNode and LLMNode components\"\"\"\n",
    "        file_dict = file.model_dump()\n",
    "        llm_dict = llm.model_dump()\n",
    "        \n",
    "        # Combine both dictionaries\n",
    "        combined_dict = {**file_dict, **llm_dict}\n",
    "        return cls(**combined_dict)"
   ]
  },
  {
   "cell_type": "markdown",
   "metadata": {},
   "source": [
    "### 2. Embeddign model"
   ]
  },
  {
   "cell_type": "markdown",
   "metadata": {},
   "source": [
    "Relevant parameters to be set:\n",
    "* Embedding model specialised to distinct task_types:\n",
    "    * Files will be embedded as `task_type=\"RETRIEVAL_DOCUMENT\"`\n",
    "    * And queries using `task_type=\"RETRIEVAL_QUERY\"`\n",
    "    \n"
   ]
  },
  {
   "cell_type": "code",
   "execution_count": 7,
   "metadata": {},
   "outputs": [
    {
     "data": {
      "text/plain": [
       "EmbedContentResponse(embeddings=[ContentEmbedding(values=[0.023835836, 0.032532666, -0.052185923, -0.019886132, 0.026069641, -0.0094205765, 0.0040515373, 0.04901829, -0.05772261, 0.02971936, 0.0033174066, 0.007165582, 0.03826761, 0.019403733, -0.0124670975, -0.07177179, 0.040335946, 0.0284832, -0.105195366, 0.0038846806, 0.035758987, -0.032837637, 0.031979468, -0.010537732, -0.013240267, -0.01915155, -0.009758277, 0.0014636988, -3.48189e-05, -0.006086665, 0.074584596, 0.047881678, 0.023218602, -0.047333293, 0.039103195, 0.0546853, 0.00990299, 0.043736435, 0.027497908, -0.033419862, -0.064396404, 0.008361147, -0.02442376, 0.04099201, -0.05026595, -0.039420515, -0.014952215, 0.076169856, -0.04816034, 0.024997566, 0.020614417, 0.08048106, -0.055345505, 0.027728302, -0.021067938, -0.030663263, -0.019208597, -0.003718978, 0.014299155, -0.025252145, 0.0031429396, -0.0041793208, -0.0034405375, -0.017077021, 0.03370819, -0.03766928, -0.019878464, -0.03647229, -0.053720966, 0.06277102, 0.001477938, 0.0020361205, -0.017900227, 0.0060213893, 0.016086476, -0.023882177, 0.05003533, -0.027659189, -0.006031463, 0.07230083, -0.038723934, 0.026218522, 0.040139448, 0.069801636, -0.01977367, 0.0011374522, 0.031762615, -0.07316719, 0.0019310015, -0.0076775784, 0.11310984, 0.070216686, 0.0010813093, -0.027649445, 0.04032629, -0.005811591, -0.1248409, -0.10114323, 0.1317091, 0.02600263, -0.026830811, 0.008232017, -0.036503956, -0.029137393, 0.021886475, 0.049414244, 0.017226122, -0.049160913, -0.010400374, 0.017592741, -0.024541805, -0.042055268, 0.027078042, 0.026658544, -0.017886128, 0.033710882, -0.016107216, -0.012926575, -0.027314037, 0.005875304, 0.0044533606, 0.049357217, -0.0010539739, 0.03521268, 0.026784647, 0.0076375934, 0.021944162, -0.005016109, -0.029457578, 0.0009965713, 0.047228396, -0.053583343, 0.030817648, 0.044509713, 0.0051242416, -0.030285751, 0.039713826, 0.046727937, 0.028079076, 0.05120007, -0.0043260814, -0.03351925, -0.03203982, -0.0011425555, -0.013355322, -0.026493791, 0.0454441, 0.039071195, -0.016746698, -0.062500924, -0.037465274, 0.0042309263, 0.054356612, 0.0026131766, 0.0071107503, 0.0011222543, 0.03307132, -0.051477056, 0.040453523, -0.022450333, 0.045353495, -0.060418304, -0.0016765861, -9.230198e-06, -0.03868784, 0.05332564, 0.015917908, -0.0710967, -0.011028727, -0.014659316, 0.00066906266, -0.032696657, 0.015409842, -0.1371469, 0.013784652, 0.020191694, -0.040808603, -0.0048838416, 0.028216511, 0.020554313, 0.086463206, 0.017366126, -0.026845789, -0.105008185, 0.031274147, 0.017347708, 0.06345905, -0.0014600956, 0.09963599, 0.04692109, 0.0066172485, 0.013645725, 0.024933418, 0.06337761, 0.0014462278, -0.005365153, 0.012371931, 0.018381342, -0.06421306, -0.046095055, 0.04652653, -0.02844132, -0.0015738006, -0.0024624013, 0.005692197, 0.05377142, -0.037937995, -0.040164366, 0.018877931, 0.034497056, -0.0011197537, -0.010061082, -0.0118886875, -0.044957675, 0.034288008, -0.010276015, 0.0442699, -0.02566899, 0.013962154, -0.0095785465, 0.03805277, 0.02856571, 0.045750245, 0.06818042, 0.036589414, 0.019109651, -0.052810464, 0.0011558728, 0.018906306, -0.036408443, -0.0019492415, 0.018797962, 0.053012572, 0.019741919, -0.069835156, -0.004025237, 0.043555986, -0.05364611, -0.0397914, -0.026969956, -0.023207096, 0.06233271, 0.04308291, 0.02463049, 0.059966154, -0.029678205, 0.072048955, -0.009688851, -0.0053554266, -0.011922082, -0.006979988, -0.054070406, -0.034874003, -0.023808079, -0.08089273, -0.027881164, 0.017092677, 0.0022447435, 0.020683108, -0.0057702586, 0.049433522, -0.015848562, 0.017276421, -0.08675664, -0.030313836, -0.07665285, -0.0038052544, -0.005841949, 0.066031225, -0.057730388, 0.04334624, -0.03047663, -0.056056283, -0.046785712, -0.009289302, 0.024994127, -0.0066966945, -0.02622138, 0.007377195, -0.038009923, 0.008677934, 0.023545008, 0.017376943, -0.0059575923, 0.008693177, -0.05038552, 0.010592942, 0.015746221, -0.014660327, -0.026419321, 0.06304182, 0.03075489, -0.008286532, -0.08174441, 0.037666865, 0.0070750997, 0.038145617, 0.00942567, -0.005723186, -0.02084129, 0.0037237837, 0.051483944, -0.03306046, 0.032114588, 0.011278332, 0.015407436, -0.05581618, -0.055645663, -0.034043185, 0.030790677, -0.018847855, 0.040801745, -0.013971581, -0.049557965, -0.031416755, -0.0517791, -0.17289306, -0.002665403, -0.033461854, 0.0124137765, 0.021985741, 0.029662652, 0.037889946, 0.020369975, -0.02655848, 0.004335645, -0.010186502, -0.006120767, 0.024126634, -0.013258046, 0.059351828, -0.012145133, -0.05096473, -0.05282337, 0.012132769, -0.018754423, -0.06854098, 0.0016465951, 0.064253934, 0.049582504, 0.03905601, -0.009176921, 0.045831263, 0.030572211, -0.020995319, -0.08524048, -0.02281657, -0.006823876, 0.027144533, 0.023559833, -0.013006701, 0.06481392, 0.013696871, -0.08035755, -0.02665777, -0.0053095734, 0.055338103, 0.004197784, -0.007994753, -0.008936551, 0.008261344, -0.018346082, -0.0035141879, -0.0017232473, 0.035260893, 0.01228748, 0.009236186, 0.042445887, -0.0468483, -0.06374025, -0.007462257, 0.045997337, -0.039529976, -0.011626245, 0.008469526, -0.016851706, -0.05059212, 0.004444929, -0.02488771, 0.037789237, -0.044112384, -0.011033672, -0.0008906566, 0.010584582, -0.024205633, 0.07901398, -0.036501795, -0.0013204844, 0.010950126, -0.023005959, -0.0017082174, 0.030961273, 0.012814374, -0.003811529, -0.031887442, 0.05685785, -0.0031436232, 0.02986963, -0.009448342, 0.006924311, -0.008558489, -0.06293457, 0.06180303, -0.035660356, -0.015883459, -0.0023673922, 0.05764007, 0.002224606, 0.0014694177, 0.048997868, -0.008572498, 0.02318783, -0.043200552, 0.004034398, -0.029707737, 0.009192148, 0.031961113, -0.017423498, -0.011912922, 0.027471794, -0.02507263, 0.014174707, -0.006800073, -0.004093291, 0.014866566, -0.073171295, -0.016666127, 0.008366227, -0.028429626, 0.0035430575, 0.042674273, 0.06317393, -0.0077966857, 0.11534072, 0.049694084, 0.028585693, -0.0037781983, 0.0026686967, -0.04450211, 0.019911991, 0.017688364, 0.00054690044, 0.022318054, 0.028611427, -0.033452652, 0.06101455, 0.04765816, 0.009194626, -0.0025767693, -0.036743693, -0.0054068966, 0.015042612, 0.015719365, -0.03517858, -0.05905491, -0.0025940186, -0.00016830613, 0.047763113, -0.0154634435, 0.019301806, -0.023010012, -0.028234567, 0.057878766, 0.005592922, 0.019796215, -0.009258565, 0.015874773, -0.0038224494, -0.010165134, 0.057243716, 0.02961166, -0.0017221683, 0.0417549, -0.007368664, -0.049162205, -0.011438261, -0.0033897627, -0.009803272, -0.01822179, 0.023387535, -0.021910662, 0.030904323, -0.024211675, 0.03206942, 0.06844305, -0.028357401, -0.021198692, 0.025834048, 0.008555447, 0.01424774, -0.020253731, 0.027103374, -0.00084035756, -0.01785995, 0.008197385, 0.003393398, -0.0033391202, -0.052452445, -0.010873671, 0.09010217, 0.05283163, -0.014690795, -0.00880375, -0.08632513, -0.032785527, 0.015519578, -0.03568047, -0.02612568, 0.04731883, -0.009079115, 0.032755807, -0.021857174, 0.01744344, 0.028576318, -0.035678454, 0.01777758, -0.041161686, 0.06460101, -0.04423275, 0.040819257, -0.026645917, 0.031207861, 0.04698855, -0.02270464, -0.010081982, 0.0010946221, 0.015405537, -0.02642184, 0.0059938068, -0.079509124, -0.040653177, 0.035056148, 0.011659918, 0.038423594, 0.017136706, 0.055757273, 0.04642841, 0.030330261, 0.019092945, -0.006423345, 0.01292696, 0.01310609, 0.005651272, 0.020722404, 0.050001904, 0.018616276, -0.0011380252, 0.054250803, 0.01132807, 0.07903219, 2.6100812e-05, -0.011232718, -0.02130087, -0.005770356, -0.03399897, -0.019187016, 0.01748459, -0.03178767, 0.005252212, -0.015275339, 0.01265003, -0.019225612, -0.017651051, -0.0021357888, -0.0060331994, 0.020358922, -0.009664303, 0.033489898, -0.053537745, 0.008076863, -0.014306911, -0.008390747, 0.019258315, -0.0099611785, 0.028920768, 0.0022247578, -0.05689261, 0.0342714, 0.054596506, -0.0022973807, -0.020099191, 0.008162567, 0.07271272, 0.007939599, 0.00201431, -0.011330077, 0.033325866, -0.0050906935, -0.025058841, 0.00062701217, -0.021451391, 0.052434873, 0.019720253, -0.05061296, -0.0018796606, 0.011129762, -0.031663716, 0.0377845, 0.024625266, 0.046783283, -0.021137381, 0.004077077, 0.041344218, 0.020471355, -0.029639227, -0.062591575, -0.012845701, -0.028208492, -0.045393128, -0.028731445, 0.0042661806, -0.0020871235, -0.044976756, -0.014009441, -0.037393674, -0.006658729, -0.039094716, 0.002563677, 0.019426994, 0.02512992, 0.019296732, -0.027905205, 0.024690084, -0.0080278795, -0.060142025, 0.008168881, -0.0003912295, 0.0027660392, 0.02000144, 0.051564775, -0.0015379834, 0.020897662, 0.027715027, -0.026744118, -0.04194704, -0.011817341, -0.005964917, -0.0050486233, -0.0007790146, -0.018237898, 0.030954903, 0.010880701, 0.086609885, 0.019653404, -0.03416039, 0.0379042, 0.035385128, 0.0010394771, -0.0072260494, 0.034856007, 0.019297436, 0.03311864, -0.0137456795, 0.02691893, -0.037833467, 0.020569354, -0.059060436, -0.008343947, 0.0019448304, -0.015457921, -0.006648159, -0.052390337, -0.033746354, 0.018642671, 0.008903782, -0.021152942, -0.004758038, 0.008149111, 0.02706622, 0.0025426345, 0.023593955, 0.0059712073, -0.020641325, 0.018263428, -0.042103093, 0.030311437, 0.042858783, 0.031940244, -0.009239262, 0.02787314, -0.024476744, -0.038792856, -0.014128725, -0.013432068, 0.0155118685, 0.032200694, 0.066131465, -0.015631566, -0.044545315, 0.0302359, -0.024461197, -0.053415067, -0.05520933, -0.006238083, -0.0035043869, 0.03442344, -0.013296728, -0.0042459196, -0.05041726, 0.01362702, -0.040512417, -0.0024289063, -0.015790837, -0.01992352, 0.025577532, 0.0017192878, 0.04349243, 0.030297609, -0.039262354, 0.002794407, -0.016994406, 0.0010160507, 0.040679425, 0.014562942, 0.0031950856, 0.015112749, 0.05792906, 0.043807887, 0.008864833, 0.014044239, 0.026451485, -0.015679635, 0.050717037, 0.0478033, 0.04022632, 0.006390662, -0.05000827, -0.03372886, -0.08105913, 0.06806641, 0.026409011, 0.0033774485, -0.013707741, -0.008955345, -0.009619101, -0.00981446, -0.006771041, -0.039085735, -0.03831552, -0.0009289974, 0.021293616, -0.03201088, -0.045142803, -0.0036565487, -0.05074799, 0.0018741942, -0.017886106, -0.035393678, -0.038605455, -0.022696165, -0.09103303, -0.012030004, -0.04687339, 0.015386822, 0.020773435, -0.031891603, -0.017645976, -0.021035153, 0.040775947, -0.010579079, -0.03628418, 0.079259716, -0.015215259, -0.013737144, -0.055522528, -0.025771366, 0.04687939, -0.07602902], statistics=None)], metadata=None)"
      ]
     },
     "execution_count": 7,
     "metadata": {},
     "output_type": "execute_result"
    }
   ],
   "source": [
    "from google import genai\n",
    "from google.genai.types import EmbedContentConfig\n",
    "\n",
    "import os\n",
    "import numpy as np\n",
    "\n",
    "class EmbeddingModel:\n",
    "    def __init__(\n",
    "            self,\n",
    "            model_name, \n",
    "            output_dimensionality: int=768,\n",
    "        ):\n",
    "        self.client = genai.Client(api_key=os.environ['GEMINI_API_KEY'])\n",
    "        self.model_name: str = model_name\n",
    "        self.output_dimensionality: int = output_dimensionality\n",
    "\n",
    "    def _embed_call(self, content: str | list[str], config: EmbedContentConfig) -> np.ndarray:\n",
    "        embedding = self.client.models.embed_content(\n",
    "            model=self.model_name,\n",
    "            contents=content,\n",
    "            config=config\n",
    "        )\n",
    "        return embedding\n",
    "    \n",
    "    def embed_query(self, query: str) -> np.ndarray:\n",
    "        return self._embed_call(\n",
    "            content=query,\n",
    "            config=EmbedContentConfig(\n",
    "                task_type=\"RETRIEVAL_QUERY\",\n",
    "                output_dimensionality=self.output_dimensionality\n",
    "            )\n",
    "        )\n",
    "    \n",
    "    def embed_file(self, file: str) -> np.ndarray:\n",
    "        return self._embed_call(\n",
    "            content=file,\n",
    "            config=EmbedContentConfig(\n",
    "                task_type=\"RETRIEVAL_DOCUMENT\",\n",
    "                output_dimensionality=self.output_dimensionality\n",
    "            )\n",
    "        )\n",
    "\n",
    "embedding_model = EmbeddingModel(model_name=EMBEDDING_MODEL)\n",
    "embedding_model.embed_file(\"test\")"
   ]
  },
  {
   "cell_type": "markdown",
   "metadata": {},
   "source": [
    "### 3. LLM model with structured output"
   ]
  },
  {
   "cell_type": "code",
   "execution_count": 59,
   "metadata": {},
   "outputs": [],
   "source": [
    "import os\n",
    "import time\n",
    "import logging\n",
    "from pathlib import Path\n",
    "from typing import Any, List, Union\n",
    "import PIL.Image\n",
    "\n",
    "from google import genai\n",
    "\n",
    "\n",
    "logger = logging.getLogger(__name__)\n",
    "logger.setLevel(logging.INFO)\n",
    "\n",
    "class Gemini:\n",
    "    \"\"\"\n",
    "    A client for interacting with the Gemini API with automatic retry on timeouts.\n",
    "    \"\"\"\n",
    "    def __init__(self, response_schema: Any, model_name: str = BASE_LLM_MODEL):\n",
    "        self.api_key = os.getenv(\"GEMINI_API_KEY\")\n",
    "        if not self.api_key:\n",
    "            raise ValueError(\"GEMINI_API_KEY environment variable is not set.\")\n",
    "        self.client = genai.Client(api_key=self.api_key)\n",
    "        self.model_name = model_name\n",
    "        self.response_schema = response_schema\n",
    "\n",
    "    def _call_api_with_retry(self, contents: List[Any], config: dict, retries: int = 3, delay: int = 5):\n",
    "        for attempt in range(retries):\n",
    "            try:\n",
    "                response = self.client.models.generate_content(\n",
    "                    model=self.model_name,\n",
    "                    contents=contents,\n",
    "                    config=config\n",
    "                )\n",
    "                return response\n",
    "            except Exception as e:\n",
    "                # If a timeout error is detected in the exception message, retry.\n",
    "                if attempt < retries - 1:\n",
    "                    logger.warning(\"API timeout detected (attempt %d/%d). Retrying in %d seconds...\", attempt+1, retries, delay)\n",
    "                    time.sleep(delay)\n",
    "                    continue\n",
    "                logger.exception(\"API call failed: %s\", e)\n",
    "                raise\n",
    "\n",
    "    def prompt_with_image(self, prompt: str, image_paths: Union[Path, List[Path]]) -> Any:\n",
    "        \"\"\"\n",
    "        Sends a prompt along with one or more images to the Gemini API and returns the parsed response.\n",
    "        \"\"\"\n",
    "        try:\n",
    "            if isinstance(image_paths, Path):\n",
    "                image_paths = [image_paths]\n",
    "\n",
    "            images = []\n",
    "            for path in image_paths:\n",
    "                try:\n",
    "                    image = PIL.Image.open(path)\n",
    "                    images.append(image)\n",
    "                except Exception as e:\n",
    "                    logger.error(\"Failed to open image %s: %s\", path, e)\n",
    "                    continue\n",
    "\n",
    "            contents = [prompt] + images\n",
    "            config = {\n",
    "                \"response_mime_type\": \"application/json\",\n",
    "                \"response_schema\": self.response_schema\n",
    "            }\n",
    "            response = self._call_api_with_retry(contents, config)\n",
    "            return response.parsed\n",
    "        except Exception as e:\n",
    "            logger.exception(\"Error in prompt_with_image: %s\", e)\n",
    "            raise\n",
    "\n",
    "    def query(self, prompt: str) -> Any:\n",
    "        \"\"\"\n",
    "        Sends a text prompt to the Gemini API and returns the parsed response.\n",
    "        \"\"\"\n",
    "        try:\n",
    "            config = {\n",
    "                \"response_mime_type\": \"application/json\",\n",
    "                \"response_schema\": self.response_schema\n",
    "            }\n",
    "            response = self._call_api_with_retry([prompt], config)\n",
    "            return response.parsed\n",
    "        except Exception as e:\n",
    "            logger.exception(\"Error in query: %s\", e)\n",
    "            raise"
   ]
  },
  {
   "cell_type": "markdown",
   "metadata": {},
   "source": [
    "# Execution"
   ]
  },
  {
   "cell_type": "markdown",
   "metadata": {},
   "source": [
    "### 1. Grabbing all files from Obsidian-vault"
   ]
  },
  {
   "cell_type": "code",
   "execution_count": 19,
   "metadata": {},
   "outputs": [
    {
     "name": "stdout",
     "output_type": "stream",
     "text": [
      "Number of notes in Obsidian-vault: 1309\n"
     ]
    }
   ],
   "source": [
    "from pathlib import Path\n",
    "path_to_obsidian = Path(\"~/Google Drive/My Drive/Obsidian\").expanduser().resolve()\n",
    "\n",
    "counter = 0\n",
    "for i in path_to_obsidian.rglob(\"*.md\"):\n",
    "    counter += 1\n",
    "print(f\"Number of notes in Obsidian-vault: {counter}\")"
   ]
  },
  {
   "cell_type": "markdown",
   "metadata": {},
   "source": [
    "### 2. Placing them inside FileNode model"
   ]
  },
  {
   "cell_type": "code",
   "execution_count": 21,
   "metadata": {},
   "outputs": [],
   "source": [
    "# hash function\n",
    "import hashlib\n",
    "\n",
    "HASH_BASE_SIZE = 1024\n",
    "\n",
    "def hash_file(file_path: Path) -> str:\n",
    "    \"\"\"\n",
    "    Create a hash of the file based on its content and metadata.\n",
    "    We should be able to catch changes in the middle of the file because of the metadata\n",
    "    \"\"\"\n",
    "    file_stat = os.stat(file_path)\n",
    "    file_size = file_stat.st_size\n",
    "    mod_time = file_stat.st_mtime # modification time invariant to changing file content\n",
    "        \n",
    "    # Read the entire content for small files, or first and last 1024 bytes for larger files\n",
    "    with open(file_path, 'rb') as f:\n",
    "        if file_size <= 2*HASH_BASE_SIZE:  # If file is 2KB or smaller, read entire file\n",
    "            file_content = f.read()\n",
    "        else:\n",
    "            first_bytes = f.read(HASH_BASE_SIZE)\n",
    "            f.seek(-HASH_BASE_SIZE, 2)  # Seek to 1024 bytes from the end\n",
    "            last_bytes = f.read()\n",
    "            file_content = first_bytes + last_bytes\n",
    "    \n",
    "    hash_input = f\"{file_size}_{mod_time}_{file_content}\"\n",
    "    \n",
    "    return hashlib.md5(hash_input.encode()).hexdigest()\n"
   ]
  },
  {
   "cell_type": "markdown",
   "metadata": {},
   "source": [
    "Reference for SemanticChunking (insanely interesting!):\n",
    "[Link](https://github.com/FullStackRetrieval-com/RetrievalTutorials/blob/main/tutorials/LevelsOfTextSplitting/5_Levels_Of_Text_Splitting.ipynb)"
   ]
  },
  {
   "cell_type": "code",
   "execution_count": 31,
   "metadata": {},
   "outputs": [],
   "source": [
    "# chunker\n",
    "from langchain_experimental.text_splitter import SemanticChunker\n",
    "from langchain_google_genai import GoogleGenerativeAIEmbeddings\n",
    "\n",
    "os.environ[\"GOOGLE_API_KEY\"] = os.environ['GEMINI_API_KEY']\n",
    "\n",
    "google_embeddings_retrieval_documents = GoogleGenerativeAIEmbeddings(\n",
    "    model=\"models/text-embedding-004\",\n",
    "    task_type=\"RETRIEVAL_DOCUMENT\"\n",
    ")\n",
    "google_embeddings_retrieval_query = GoogleGenerativeAIEmbeddings(\n",
    "    model=\"models/text-embedding-004\",\n",
    "    task_type=\"RETRIEVAL_QUERY\"\n",
    ")\n",
    "# Usage: vector = embeddings.embed_query(\"hello, world!\")\n",
    "\n",
    "text_splitter = SemanticChunker(\n",
    "    embeddings=google_embeddings_retrieval_documents,\n",
    "    breakpoint_threshold_type=\"percentile\",\n",
    ")\n",
    "# Usage: docs = text_splitter.create_documents([\"Hello, world!\"])"
   ]
  },
  {
   "cell_type": "code",
   "execution_count": 57,
   "metadata": {},
   "outputs": [
    {
     "name": "stderr",
     "output_type": "stream",
     "text": [
      "  0%|          | 0/1309 [00:00<?, ?it/s]\n"
     ]
    }
   ],
   "source": [
    "# Create a dictionary to store file nodes and their corresponding chunks\n",
    "from tqdm import tqdm\n",
    "\n",
    "file_nodes = []\n",
    "\n",
    "# we can take the length of a generator if we first convert it to a list apparently!\n",
    "total_count = len(list(path_to_obsidian.rglob(\"*.md\")))\n",
    "\n",
    "for i in tqdm(path_to_obsidian.rglob(\"*.md\"), total=total_count):\n",
    "    content = i.read_text()\n",
    "\n",
    "    chunks = text_splitter.create_documents([content])\n",
    "    chunks_to_embeddings = {\n",
    "        chunk.page_content: google_embeddings_retrieval_documents.embed_query(\n",
    "            chunk.page_content\n",
    "        ) for chunk in chunks\n",
    "    }\n",
    "\n",
    "    file_nodes.append(\n",
    "        FileNode(\n",
    "            primary_id=hash_file(i),\n",
    "            content=content,\n",
    "            file_size=i.stat().st_size,\n",
    "            file_creation_time=i.stat().st_ctime,\n",
    "            file_modification_time=i.stat().st_mtime,\n",
    "            filetype=i.suffix,\n",
    "            location=\"Obsidian\",\n",
    "            path=i.as_posix(),\n",
    "            chunks_to_embeddings=chunks_to_embeddings\n",
    "        )\n",
    "    )\n",
    "    # what's probably pretty improtant when we create the nodes\n",
    "    # is that we'll have Files/Documents as one lable\n",
    "    # then we'll have chunks with a `chunk_id`\n",
    "    # tying back to a `parent_id` and `next_chunk_id` for the next chunk\n",
    "\n",
    "    break\n",
    "\n",
    "test = file_nodes[0]"
   ]
  },
  {
   "cell_type": "code",
   "execution_count": 71,
   "metadata": {},
   "outputs": [],
   "source": [
    "from prompts import PROMPT\n",
    "\n",
    "llm_featuriser = Gemini(response_schema=LLMNode)\n",
    "\n",
    "prompt_with_content = PROMPT + f\"\\n\\n{test.content}\"\n",
    "\n",
    "llm_test = llm_featuriser.query(prompt_with_content)"
   ]
  },
  {
   "cell_type": "code",
   "execution_count": 78,
   "metadata": {},
   "outputs": [
    {
     "data": {
      "text/plain": [
       "Node(label='To-do list', author=[], problem_space=['Project management', 'Personal task management', 'Research planning'], research_question='Not applicable', main_argument='A list of tasks to be completed across various areas, including academic work, personal matters, and professional responsibilities.', summary='This document is a to-do list containing a variety of tasks related to academic projects, job applications, personal tasks, and work-related assignments. The tasks range from finishing assignments and finding a new place to live to exploring data analysis techniques and following up on work leads.', domain='Project Management', tags=['task-management', 'personal-projects', 'academic-tasks', 'work-tasks'], themes=['task management', 'research planning', 'personal goals', 'academic workload', 'professional development'], keywords=['blog post', 'midterm', 'new place', 'embedding space', 'private mirror', 'PSet', 'CSE', 'writing application', 'datasets', 'Orbis', 'ICIJ leaks', 'Business and Global Governance', 'courses', 'international economics', 'Penn notes', 'Mathematical Analysis', 'Advanced Microeconomics', 'Real Analysis', 'Obsidian', 'Media Cloud', 'Trump', 'Jupyter notebook', 'clustering', 'distance', 'article-andele', 'custom embeddings', 'LDA', 'articles', 'Bidragsanalyse', 'havelågebrugerne'], quotes=[], content_creation_date=datetime.datetime(2024, 1, 1, 0, 0, tzinfo=TzInfo(UTC)), entities_persons=['Cameron', 'Trump'], entities_places=['Penn', 'GitHub'], entities_organizations=['Orbis', 'ICIJ'], entities_references=[\"MicroMaster's program\", '6.419', 'CSE', 'Advanced Economics and Finance', 'Business and Global Governance', '6.86x', '14.740x', '14.750x', 'Mathematical Analysis', 'Advanced Microeconomics', 'Real Analysis', 'Media Cloud', 'Jupyter notebook', 'LDA'], primary_id='44ca9c610d7b56da8380a12c1070ec05', content=\"---\\nid: to-do\\naliases:\\n  - To do\\ntags: []\\n---\\n\\n# To do\\n\\n- Blog post about MicroMaster's program(s)\\n- Finish up midterm - I'm kinda tempted to pull a Penn and do it the night before\\n* Find a new place to live\\n- Embedding space for all notes\\n- Private mirror of an llm online or osmething both for family and myself that has access to e.g. those notes.\\n- * Finish up PSet 2 for 6.419\\n* Send in thing for CSE\\n* Writing application for Advanced Economics and Finance\\n* Start joining datasets with Orbis and ICIJ leaks\\n* Catch up on Business and Global Governance\\n* Go through this one: https://www.youtube.com/watch?v=7xTGNNLPyMI\\n* Start organising notable prior courses with programmign as GitHub repos \\n    * 6.419 definitely\\n    * 18.6501x most definitely\\n    * 6.86x,\\n    * 14.740x,\\n    * 14.750x\\n* Put up international economics as well: reproducing some of the things there\\n* Upload Penn notes handwritten\\n* Finish current chapter in Mathematical Analysis\\n* Finish chapter in Advanced Microeconomics\\n* Follow up on Real Analysis with Cameron\\n* Clean up in Obsidian\\n* Brainstorm some interesting idea we can use Media Cloud for (e.g. is Danish coverage of Trump bad?)\\n\\n### Arbejde\\n* Prøveabonnenter samling - generelt, tror jeg vi skal begynde at favorisere tal først igennem en Jupyter notebook og derefter grafer, hvis der er noget spændende.\\n* Tag teten ifht. Marketing\\n* Snig noget clustering ind: ide denne omgang: vi har noget distance der er preserved, og lad os bare prøve med et lille subset af deres artikel-andele for dem der har læst x artikler online.\\n* Could be damn interesting to look at some custom embeddings\\n* LDA on articles as well!\\n* Bidragsanalyse skal lige followes up å\\n* Færdiggør havelågebrugerne\\n\", file_size=1734.0, file_creation_time=datetime.datetime(2025, 2, 23, 12, 28, 5, 614208, tzinfo=TzInfo(UTC)), file_modification_time=datetime.datetime(2025, 2, 23, 12, 27, 58, 11923, tzinfo=TzInfo(UTC)), filetype='.md', location='Obsidian', path='/Users/oscarjuliusadserballe/Library/CloudStorage/GoogleDrive-oscar.adserballe@gmail.com/My Drive/Obsidian/to-do.md', chunks_to_embeddings={\"---\\nid: to-do\\naliases:\\n  - To do\\ntags: []\\n---\\n\\n# To do\\n\\n- Blog post about MicroMaster's program(s)\\n- Finish up midterm - I'm kinda tempted to pull a Penn and do it the night before\\n* Find a new place to live\\n- Embedding space for all notes\\n- Private mirror of an llm online or osmething both for family and myself that has access to e.g. those notes. - * Finish up PSet 2 for 6.419\\n* Send in thing for CSE\\n* Writing application for Advanced Economics and Finance\\n* Start joining datasets with Orbis and ICIJ leaks\\n* Catch up on Business and Global Governance\\n* Go through this one: https://www.youtube.com/watch?v=7xTGNNLPyMI\\n* Start organising notable prior courses with programmign as GitHub repos \\n    * 6.419 definitely\\n    * 18.6501x most definitely\\n    * 6.86x,\\n    * 14.740x,\\n    * 14.750x\\n* Put up international economics as well: reproducing some of the things there\\n* Upload Penn notes handwritten\\n* Finish current chapter in Mathematical Analysis\\n* Finish chapter in Advanced Microeconomics\\n* Follow up on Real Analysis with Cameron\\n* Clean up in Obsidian\\n* Brainstorm some interesting idea we can use Media Cloud for (e.g. is Danish coverage of Trump bad?)\\n\\n### Arbejde\\n* Prøveabonnenter samling - generelt, tror jeg vi skal begynde at favorisere tal først igennem en Jupyter notebook og derefter grafer, hvis der er noget spændende.\": [-0.019215460866689682, 0.025809062644839287, -0.05191999673843384, 0.0013006957015022635, 0.042385779321193695, -0.009680427610874176, 0.03762098029255867, 0.021223586052656174, 0.03099946118891239, 0.004491394851356745, 0.010465037077665329, 0.03847938030958176, 0.031486570835113525, -0.015140275470912457, 0.011069177649915218, -0.01480481494218111, 0.048077523708343506, 0.006625082343816757, -0.08911565691232681, 0.009193122386932373, -0.015234142541885376, 0.02774197980761528, -0.08058705180883408, -0.005635988898575306, -0.01958988793194294, -0.035881612449884415, 0.02714470960199833, -0.007002825383096933, 0.003231964074075222, -0.0030266207177191973, -0.023896226659417152, 0.054769281297922134, 0.022051196545362473, -0.013295709155499935, -0.01714826188981533, 0.10118069499731064, -0.040124841034412384, -0.015572232194244862, 0.07184238731861115, -0.031134353950619698, -0.04814356938004494, -0.0023392997682094574, -0.04282505437731743, 0.030275972560048103, -0.027611540630459785, -0.036577001214027405, -0.004649560432881117, 0.03728073462843895, -0.017949257045984268, 0.03849630430340767, 0.07783890515565872, 0.0017110417829826474, -0.02605636790394783, 0.02402060478925705, -0.02686936780810356, -0.037094276398420334, -0.04955876246094704, -0.03058362752199173, -0.0060724010691046715, -0.03165362775325775, 0.027571076527237892, -0.02031290903687477, -0.04164302349090576, -0.04752730205655098, -0.011356144212186337, -0.026867087930440903, -0.017513342201709747, -0.014869310893118382, -0.06440132856369019, 0.06411205977201462, -0.019559284672141075, 0.012526150792837143, -0.006843322888016701, 0.018196526914834976, -0.03542646765708923, 0.04459463804960251, 0.026718620210886, -0.0232542734593153, -0.032812390476465225, 0.09140221774578094, 0.012508069165050983, 0.01123683899641037, 0.08947592973709106, 0.04101896658539772, 0.03228974714875221, 0.019219156354665756, 0.023878222331404686, -0.058057110756635666, -0.05764155462384224, -0.0387830026447773, 0.06272230297327042, -0.0022790164221078157, 0.019140223041176796, 0.060905639082193375, 0.11257988959550858, -0.004957771394401789, -0.07738908380270004, -0.11190015077590942, 0.054880522191524506, 0.0314563512802124, -0.024190977215766907, -0.0010936491889879107, -0.025236712768673897, -0.08218906074762344, 0.0324772372841835, 0.04105156660079956, -0.009403555653989315, -0.02985246479511261, -0.0318424329161644, 0.07030520588159561, -0.022944342344999313, 0.0666699931025505, 0.038492489606142044, -0.01217204611748457, -0.02010081522166729, -0.009083676151931286, -0.03053470514714718, 0.006022252608090639, -0.04445434361696243, 0.017935343086719513, -0.008333642967045307, -0.0036149118095636368, -0.04275234788656235, 0.05531115084886551, 0.04634856432676315, -0.03725496307015419, -0.012033948674798012, 0.029058389365673065, -0.06709292531013489, -0.061072904616594315, 0.06831033527851105, -0.04964349791407585, 0.0003924892807845026, 0.003443034365773201, -0.00955152790993452, -0.0648132860660553, 0.007143429014831781, -0.03129532188177109, 0.055131375789642334, 0.05263718217611313, 0.007704198360443115, -0.037005722522735596, -0.07093837857246399, 0.03086407296359539, -0.00025314497179351747, 0.0017573835793882608, 0.06153125688433647, 0.026769885793328285, -0.012961703352630138, 0.011332192458212376, -0.06903569400310516, 0.016771437600255013, 0.021473919972777367, 0.005666456185281277, -0.04592253267765045, -0.030715106055140495, 0.040649935603141785, -0.059943899512290955, 0.02608252316713333, -0.017392892390489578, 0.014946568757295609, -0.057445477694272995, -0.020161785185337067, 0.05442015454173088, -0.05682225152850151, -0.054826416075229645, -0.020062368363142014, 0.0026591187343001366, 0.07298262417316437, 0.009716919623315334, -0.052378151565790176, -0.046882059425115585, -0.022580325603485107, -0.08218178898096085, 0.012001208029687405, 0.006158976349979639, -0.02168327011168003, -0.03656145930290222, -0.011565255001187325, -0.016769517213106155, 0.06450185179710388, 0.05118979886174202, -0.0077013662084937096, -0.03910331055521965, -0.002441322896629572, 0.007032995577901602, 0.007838654331862926, 0.053135327994823456, 0.04491628706455231, 0.03023826889693737, 0.01160478312522173, 0.001659100060351193, -0.02650999277830124, 0.056651774793863297, -0.04799679294228554, -0.009146413765847683, 0.03483128547668457, -0.04782049357891083, 0.013818823732435703, -0.07580076158046722, 0.03824697807431221, -0.022007081657648087, -0.02599026821553707, -0.03023148514330387, 0.0072821020148694515, 0.0672883540391922, -0.026966402307152748, -0.06004303693771362, 0.04262349382042885, 0.045373301953077316, -0.07328373938798904, 0.0018858186667785048, -0.031436145305633545, -0.0025432095862925053, -0.002940267324447632, -0.04317475110292435, 0.06607795506715775, 0.021516667678952217, 0.058148790150880814, -0.04446835815906525, 0.0010990513255819678, -0.040888696908950806, -0.0025598059874027967, -0.009396503679454327, 0.006625031121075153, -0.009145645424723625, -0.011487030424177647, 0.02183895744383335, 0.01548340730369091, -0.054776132106781006, -0.019356386736035347, 0.023580487817525864, -0.026601742953062057, 0.055325206369161606, -0.05392315611243248, -0.012669697403907776, 0.026663504540920258, -0.016851386055350304, -0.03500168025493622, 0.028871312737464905, 0.005330594722181559, 0.06810610741376877, 0.005060472991317511, -0.014874533750116825, 0.02760656364262104, 0.002511509694159031, 0.012096823193132877, 0.028959183022379875, -0.03635454550385475, -0.04281266778707504, -0.020670130848884583, -0.019036004319787025, -0.03270842507481575, -0.012323089875280857, -0.048686739057302475, -0.013268056325614452, -0.013417324982583523, -0.009057790040969849, 0.006940640043467283, -0.04286002740263939, 0.07716543227434158, -0.04047372192144394, -0.026292135939002037, -0.09324176609516144, -0.024120379239320755, -0.08092404156923294, -0.005583691876381636, -0.04203328490257263, 0.015729714184999466, -0.0003863168240059167, 0.07228262722492218, -0.04266296327114105, -0.027305183932185173, -0.009352649562060833, -0.03695988655090332, 0.02021338976919651, -0.018585361540317535, -0.001266669249162078, -0.06487679481506348, -0.024540254846215248, 0.04036451503634453, 0.005471031181514263, -0.021911947056651115, -0.042482420802116394, 0.07267119735479355, -0.04394957795739174, 0.02172364853322506, 0.0407455638051033, -0.004249014426022768, -0.0188121534883976, 0.010728228837251663, 0.0326264314353466, -0.02454015240073204, -0.02636266127228737, 0.026038991287350655, 0.014942973852157593, 0.030101874843239784, -0.0035389121621847153, 0.009782083332538605, 0.03688053786754608, 0.01553706731647253, 0.006787561811506748, -0.0006510941893793643, 0.037037428468465805, 0.017341775819659233, 0.01592346280813217, -0.008747130632400513, -0.009392489679157734, -0.03217411786317825, 0.006721195764839649, 0.01134243793785572, 0.05028112977743149, -0.056940577924251556, -0.007134866435080767, -0.030486416071653366, -0.052502263337373734, -0.19438312947750092, 0.015235968865454197, -0.0017304198117926717, 0.013537727296352386, 0.023279927670955658, 0.007564918138086796, -0.05179007723927498, -0.01782914251089096, 0.026804516091942787, -0.0039473907090723515, 0.04052940383553505, -0.014300881884992123, 0.003577908268198371, -0.00432410417124629, 0.029823368415236473, 0.0015318026999011636, 0.006080447230488062, -0.03819097578525543, -0.007660933770239353, 0.0804310142993927, -0.024627115577459335, 0.03994497284293175, 0.06529312580823898, 0.08111255615949631, 0.04527820274233818, 0.06355994939804077, 0.01681935042142868, 0.014233099296689034, 0.004946005064994097, -0.05275489762425423, 0.03265441209077835, -0.003188899951055646, -0.01619013212621212, 0.009982338175177574, 0.040996842086315155, 0.05463483929634094, 0.06087072566151619, -0.012224126607179642, -0.002135478425770998, -0.01959581859409809, 0.06665600836277008, -0.023592643439769745, -0.0009395867818966508, -0.00968105811625719, 0.02367502637207508, 0.018929004669189453, -0.02225976437330246, 0.023907508701086044, 0.014006801880896091, -0.036159466952085495, 0.009201261214911938, 0.010040797293186188, -0.009389993734657764, -0.05994692072272301, 0.00761273643001914, 0.02913474105298519, 0.027313407510519028, 0.013092712499201298, -0.05145210027694702, -0.028116464614868164, -0.026834599673748016, -0.005670836661010981, 0.0217036921530962, -0.011946500279009342, 0.04880407452583313, -0.026058129966259003, 0.003145278198644519, -0.006138775963336229, -0.04930339381098747, 0.05535745248198509, -0.05756548047065735, 0.03198721259832382, 0.03189763054251671, -0.03314191475510597, -0.017292456701397896, 0.05880830064415932, -0.016645779833197594, 0.052654098719358444, -0.052818916738033295, 0.07551342248916626, -0.06685816496610641, 0.07550793886184692, -0.0026542406994849443, 0.06171390786767006, -0.009101888164877892, -0.021919775754213333, 0.045322030782699585, -0.03265175595879555, 0.023792874068021774, 0.006423064507544041, 0.0763576403260231, 0.052792370319366455, 0.029387643560767174, -0.01668400503695011, -0.017523199319839478, -0.024108104407787323, -0.04022141173481941, 0.004471899010241032, -0.004816171247512102, -0.005894036497920752, 0.0028867688961327076, -0.017379287630319595, -0.02860749326646328, -0.003051019972190261, -0.006107429973781109, 0.027706841006875038, 0.02999509684741497, -0.002936840523034334, -0.016418766230344772, -0.08682752400636673, 0.025658084079623222, 0.035422246903181076, 0.03244840353727341, 0.034323859959840775, 0.021358825266361237, 0.051741890609264374, -0.012248905375599861, 0.04160807654261589, 0.01443533506244421, 0.0599588118493557, -0.0038064883556216955, -0.02634854055941105, -0.03146108239889145, -0.007240477483719587, 0.017153704538941383, -0.02182980254292488, 0.027888348326086998, 0.013694765977561474, 0.0026485384441912174, -0.0020031752064824104, 0.060736704617738724, 0.03562517464160919, -0.050104524940252304, -0.03922264277935028, 0.002949262736365199, -0.04511167109012604, 0.04120323061943054, -0.01869266666471958, -0.08594100922346115, 0.02799055352807045, 0.0022933364380151033, -0.030736343935132027, -0.026993855834007263, 0.042781081050634384, -0.03557928279042244, -0.03206999972462654, 0.035258691757917404, -0.0033621706534177065, -0.039132051169872284, -0.011749367229640484, 0.01749226450920105, 0.008282994851469994, -0.012196237221360207, 0.06804216653108597, 0.031646620482206345, 0.029968369752168655, -0.01245869416743517, 0.024088608101010323, -0.05790245905518532, 0.005817424040287733, 0.04861150681972504, -0.006049159914255142, -0.011881748214364052, -0.007610557600855827, -0.02160312794148922, -0.019105257466435432, 0.021581226959824562, 0.011767784133553505, 0.05146372690796852, -0.029561903327703476, -0.027020078152418137, -0.003127742325887084, -0.022109895944595337, -0.0010642667766660452, -0.010965974070131779, -0.0026744443457573652, -0.02206147275865078, 0.01527776662260294, -0.01522385235875845, -0.008419221267104149, 0.030706387013196945, -0.004167122766375542, -0.013314877636730671, -0.009759379550814629, 0.0926225483417511, 0.026173794642090797, 0.005953093059360981, -0.05635203421115875, -0.031834181398153305, 0.05353809520602226, -0.06024235114455223, -0.058149129152297974, 0.050449687987565994, 0.02160830982029438, 0.051934123039245605, 0.0008012990583665669, -0.005483116023242474, -0.023154083639383316, -0.03262817859649658, 0.0674138143658638, -0.019290249794721603, 0.01422331016510725, -0.02657291106879711, -0.01713486574590206, -0.05016893893480301, -0.009496727026998997, 0.03616539388895035, 0.005802732892334461, -0.012634586542844772, -0.0934271514415741, 0.0325692780315876, -0.0058458112180233, 0.038706060498952866, -0.0599207878112793, -0.012823530472815037, 0.08196764439344406, 0.051102373749017715, -0.027762463316321373, 0.013815698213875294, 0.0138206472620368, 0.00832754373550415, -0.004449928179383278, -0.0004888411494903266, 0.03448780998587608, 0.00017953112546820194, 0.0027170151006430387, 0.03623335808515549, 0.03527531027793884, 0.03579290583729744, -0.03239531069993973, 0.02527635544538498, 0.05420353263616562, -0.0028741119895130396, 0.09266644716262817, -0.047950077801942825, -0.024950671941041946, -0.007514860015362501, 0.04993264004588127, -0.0076903365552425385, -0.028892628848552704, 0.012465878389775753, 0.0068916878663003445, -0.02314259298145771, -0.0424514077603817, -0.03446076810359955, -0.02149011194705963, -0.020940378308296204, -0.02932867407798767, -0.008419526740908623, 0.036005713045597076, -0.003082407871261239, 0.07171627879142761, -0.012884894385933876, 0.003630273509770632, 0.01925523392856121, -0.002506116172298789, 0.03479830548167229, -0.06621911376714706, -0.02512984350323677, 0.020946646109223366, -0.07442225515842438, -0.002976174931973219, 0.012860391288995743, -0.004514715634286404, 0.028837131336331367, 0.030928194522857666, 0.0575224943459034, 0.0003762490814551711, 0.010294787585735321, 0.006156154442578554, 0.05612986162304878, 0.049553439021110535, -0.030696671456098557, 0.013639548793435097, 0.017555152997374535, 0.01895030215382576, 0.027284463867545128, -0.014598139561712742, 0.016292689368128777, -0.029416769742965698, -0.04088978096842766, -0.021012021228671074, 0.03214532136917114, 0.03634534031152725, 0.009067177772521973, -0.0035007374826818705, 0.05920782685279846, -0.010325556620955467, -0.01504333782941103, -0.056271743029356, 0.004121812060475349, -0.05403413623571396, 0.030320489779114723, -0.021993787959218025, 0.02073155902326107, -0.019484518095850945, 0.0063263969495892525, -0.02567252516746521, -0.07553425431251526, 0.013980308547616005, -0.03772735595703125, -0.023817218840122223, 0.0047384160570800304, 0.0019925523083657026, 0.02704150602221489, 0.03331558406352997, -0.013460559770464897, 0.004206943791359663, -0.011991194449365139, -0.030615713447332382, -0.042249519377946854, 0.013312033377587795, 0.013400246389210224, -0.04123469814658165, -0.03423196077346802, -0.013117040507495403, 0.056991662830114365, -0.0232720747590065, 0.0034993865992873907, -0.025790926069021225, -0.030990272760391235, 0.005285714287310839, 0.028295477852225304, 0.020498838275671005, 0.011327709071338177, 0.034143418073654175, 0.05034854635596275, -0.02017258293926716, -0.06009996682405472, 0.04313567653298378, 0.0020203888416290283, -0.01876567304134369, 0.04829021915793419, 0.04282759875059128, 0.016126109287142754, 0.05210527777671814, -0.019002430140972137, 0.03357884660363197, 0.00824008695781231, 0.017941225320100784, -0.04277908802032471, -0.003309731837362051, -0.0035432344302535057, 0.015319529920816422, -0.04640047997236252, -0.02948715351521969, -0.018099816516041756, 0.01260608620941639, 0.0060237497091293335, 0.0080867325887084, -0.04379655048251152, -0.0010331223020330071, -0.00916461180895567, -0.008050945587456226, 0.022417044267058372, -0.060437679290771484, -0.018077537417411804, 0.036927033215761185, -0.012343235313892365, 0.04625638201832771, 0.0004160335520282388, -0.007716096937656403, -0.020919667556881905, 0.012941619381308556, 0.02601226232945919, -0.015559807419776917, 0.053123053163290024, 0.001103499555028975, 0.016561491414904594, -0.037477921694517136, 0.052150290459394455, -0.01359417475759983, -0.021138649433851242, 0.03090806119143963, 0.01620645262300968, -0.03961966559290886, -0.017606105655431747, 0.010526630096137524, 0.000901346153113991, 0.03427469730377197, -0.04147495701909065, 0.03430525213479996, -0.04726671800017357, 0.0029877691995352507, 0.01467442698776722, 0.014532654546201229, -0.0654289498925209, -0.03887369856238365, 0.008840822614729404, -0.02197735384106636, 0.04284166544675827, 0.03437751159071922, -0.004765414632856846, 0.015912454575300217, -0.022192509844899178, 0.030513375997543335, 0.0237163957208395, 0.00866097491234541, 0.015477479435503483, 0.007454289589077234, 0.035036858171224594, 0.018475018441677094, -0.04570380225777626, -0.0008858772343955934, 0.007261577993631363, -0.017939584329724312, 0.0028941575437784195, 0.07040967792272568, 0.0025472347624599934, 0.019743002951145172, -0.08335002511739731, -0.022007834166288376, -0.03859768435359001, 0.03547803685069084, 0.00556507334113121, 0.0049560219049453735, -0.0018231021240353584, 0.03233443573117256, -0.03667932748794556, -0.04932427406311035, -0.03717507794499397, 0.0107352240011096, -0.01665015146136284, -0.02003522217273712, 0.0043731252662837505, -0.020879052579402924, -0.026336900889873505, -0.034624308347702026, 0.019746843725442886, -0.000434002693509683, -0.01659068837761879, -0.00014495236973743886, -0.006744425743818283, -0.020888837054371834, -0.04344125837087631, 0.003352738916873932, 0.014411883428692818, -0.014218678697943687, 0.059621214866638184, 0.028744937852025032, 0.002606443129479885, -0.01865617372095585, 0.03829285874962807, 0.025783658027648926, -0.008977445773780346, 0.026659686118364334, 0.03086712583899498, 0.029760506004095078, -0.02630741521716118, -0.0007470046984963119, 0.07199526578187943, -0.029369883239269257], '* Tag teten ifht. Marketing\\n* Snig noget clustering ind: ide denne omgang: vi har noget distance der er preserved, og lad os bare prøve med et lille subset af deres artikel-andele for dem der har læst x artikler online. * Could be damn interesting to look at some custom embeddings\\n* LDA on articles as well! * Bidragsanalyse skal lige followes up å\\n* Færdiggør havelågebrugerne\\n': [-0.0450877845287323, -0.004482931923121214, -0.055289849638938904, -0.008521392941474915, 0.03586204722523689, 0.0020215765107423067, 0.01666427031159401, 0.029519759118556976, 0.005449199117720127, -0.0020168027840554714, 0.011728591285645962, 0.04069963097572327, 0.05293317511677742, -0.026473771780729294, 0.020905978977680206, -0.04164598882198334, 0.0879608765244484, 0.014881506562232971, -0.11604446917772293, 0.04501844570040703, 0.021868495270609856, 0.009098327718675137, -0.029733926057815552, -0.005728598218411207, -0.014999626204371452, -0.0041874065063893795, -0.0013311227085068822, -0.005024564452469349, -0.012053008191287518, -0.013926326297223568, 0.050272826105356216, 0.06199724227190018, 0.03844929859042168, -0.02702835015952587, -0.01631857268512249, 0.030581727623939514, -0.017218949273228645, 0.013347545638680458, 0.04007889702916145, -0.09867586195468903, -0.015149141661822796, 0.016235053539276123, -0.05165931209921837, 0.03151937201619148, -0.02408369816839695, -0.02729339525103569, 0.005525119137018919, 0.017703311517834663, 0.007733287755399942, 0.036122437566518784, 0.011873329058289528, -0.010596961714327335, -0.05541049316525459, 0.0589887797832489, -0.04459220543503761, 0.007482862565666437, -0.010389654897153378, -0.0003574498987291008, 0.04766776040196419, -0.015722084790468216, 0.04210834950208664, -0.027422381564974785, -0.010754545219242573, -0.037194959819316864, 0.027214547619223595, -0.04895203188061714, 0.013488835655152798, 0.019493579864501953, -0.09060382097959518, 0.027216712012887, -0.013995211571455002, 0.017014792189002037, -0.01572437770664692, 0.00903006549924612, -0.026071447879076004, 0.007695281412452459, 0.008960566483438015, -0.023663580417633057, 0.00243582995608449, 0.0815909206867218, 0.01754888892173767, 0.015443584881722927, 0.06021168455481529, 0.0383589044213295, -0.010668884962797165, 0.0032599952537566423, -0.016579976305365562, -0.06175330653786659, -0.08398989588022232, -0.02259593829512596, 0.07041222602128983, -0.011508384719491005, 0.009892033413052559, -0.0026487812865525484, 0.05853414535522461, -0.04599141329526901, -0.08217344433069229, -0.11318573355674744, 0.10510646551847458, 0.08005139231681824, -0.02359676919877529, 0.000277887680567801, -0.0076898508705198765, -0.05781006067991257, 0.046488307416439056, 0.05547096207737923, -0.014645753428339958, -0.040372997522354126, -0.025088772177696228, 0.06839630752801895, -0.02580716833472252, 0.02117644064128399, 0.03561825677752495, -0.030395807698369026, -0.008343770168721676, 0.0052757905796170235, -0.054663073271512985, 0.01890174113214016, -0.05511245131492615, -0.018955804407596588, -0.0152084119617939, 0.020262055099010468, -0.02459530159831047, 0.07510240375995636, 0.04299473017454147, -0.03291681781411171, -0.03158612549304962, -0.02019261009991169, -0.07079490274190903, -0.060224056243896484, 0.06837575137615204, -0.06724120676517487, -0.019312221556901932, 0.01210104301571846, -0.030785225331783295, -0.07918178290128708, 0.018001887947320938, -0.04308880865573883, 0.0267422404140234, 0.0524689145386219, -0.008520444855093956, -0.052119188010692596, -0.07926966995000839, 0.031170042231678963, 0.020175602287054062, -0.03720969706773758, 0.043505772948265076, 0.08275804668664932, -0.011464246548712254, 0.017286743968725204, -0.016307299956679344, -0.00749637046828866, -0.0017903100233525038, 0.03515752777457237, -0.02072652243077755, -0.002166420454159379, 0.06460144370794296, -0.056260623037815094, 0.06036456301808357, 0.002616013865917921, 0.019551634788513184, -0.04967194050550461, 0.004752421751618385, 0.013524612411856651, -0.03070235438644886, -0.04623549059033394, 0.02276412583887577, -0.02284334972500801, 0.03230443596839905, -0.0013034670846536756, -0.04707270488142967, -0.004021186847239733, -0.03574693948030472, -0.10977637767791748, 0.004290885757654905, 0.0006807519821450114, -0.04539759084582329, 0.0028938825707882643, 0.007126865908503532, -0.014992762356996536, 0.08215700834989548, 0.04574112966656685, 0.004712728783488274, -0.07549552619457245, -0.0012656101025640965, 0.0005312807625159621, 0.013642665930092335, 0.008137591183185577, 0.06864801794290543, 0.06153860688209534, -0.023974759504199028, 0.023889213800430298, 0.002421898301690817, 0.021198907867074013, -0.019046379253268242, -0.026037687435746193, 0.015968184918165207, -0.05644749104976654, 0.006928375922143459, -0.06776724755764008, 0.04772697761654854, -0.026517273858189583, -0.02123584970831871, -0.02469148114323616, 0.006158543284982443, 0.026155762374401093, -0.044145986437797546, -0.021874230355024338, 0.03678692504763603, 0.06250458210706711, -0.04357808828353882, -0.013016965240240097, -0.025129593908786774, -0.06150144711136818, 0.023261817172169685, -0.004416805692017078, 0.029348889365792274, 0.014252029359340668, 0.03586634248495102, -0.02856094390153885, -0.007737320847809315, -0.030547810718417168, -0.04139810428023338, 0.04230237007141113, 0.014319990761578083, 0.0010162261314690113, 0.004301560577005148, 0.01223174948245287, 0.02681957185268402, -0.061897389590740204, 0.015375940129160881, 0.023631824180483818, -0.014600733295083046, 0.02672017179429531, -0.025447428226470947, 0.021648608148097992, 0.01790456660091877, -0.018168706446886063, -0.041637539863586426, -0.005262564867734909, -0.012229099869728088, 0.0916072204709053, 0.02722981758415699, -0.03180532902479172, 0.03612283989787102, 0.011445809155702591, 0.08602792769670486, 0.021137548610568047, 0.014519485644996166, -0.054226696491241455, -0.05969434976577759, 0.00021092870156280696, 0.009539850987493992, -0.017848612740635872, -0.041293855756521225, -0.031156359240412712, 0.04644099250435829, -0.017021970823407173, -0.029742589220404625, 0.0030247473623603582, 0.07094991952180862, -0.017542557790875435, -0.02947794459760189, -0.08482006192207336, -0.055052321404218674, -0.08386607468128204, -0.030788324773311615, -0.03276414796710014, 0.07061067968606949, 0.0005873332265764475, 0.05602758750319481, -0.040298379957675934, -0.024364013224840164, -0.04526960477232933, -0.03876779228448868, 0.010401089675724506, 0.00205877679400146, 0.0020870184525847435, -0.057067207992076874, -0.04705101624131203, 0.042412105947732925, 0.021245522424578667, 0.0002932195784524083, -0.04341239482164383, 0.03776557743549347, -0.06571342051029205, 0.038956835865974426, 0.014323997311294079, -0.013120155781507492, -0.016840625554323196, 0.03513510525226593, 0.0248124822974205, -0.033591341227293015, -0.038128554821014404, 0.06498031318187714, -0.008463557809591293, 0.009716073051095009, 0.028477458283305168, -0.033283159136772156, 0.04831354692578316, 0.002648651599884033, 0.03311730548739433, -0.001117001287639141, 0.031941965222358704, 0.0021362940315157175, -0.0018644295632839203, 0.014345296658575535, -0.053279999643564224, -0.020559024065732956, 0.013096404261887074, 0.00981940422207117, 0.036791056394577026, -0.04708874970674515, -0.0392417274415493, -0.008607884868979454, -0.038875699043273926, -0.1806349903345108, 0.003151554614305496, -0.01405581645667553, -0.030413398519158363, 0.02182304672896862, 0.008555361069738865, -0.02328331023454666, -0.02049119584262371, 0.04449155181646347, -0.0013061065692454576, 0.02933277003467083, 0.007504499051719904, 0.039666756987571716, 0.0051485877484083176, 0.03413931652903557, -0.003620787523686886, -0.015274632722139359, -0.06625348329544067, 0.0039003898855298758, 0.031544286757707596, -0.042795710265636444, 0.03891771659255028, 0.08373376727104187, 0.05106605216860771, 0.06033656373620033, 0.058599404990673065, 0.014115138910710812, 0.00498266750946641, -0.03764571249485016, -0.04629470035433769, 0.008047773502767086, 0.01872791163623333, -0.021333133801817894, 0.013551379553973675, 0.046537138521671295, 0.03921708092093468, 0.005535147152841091, -0.03349769115447998, 0.00929199531674385, -0.024978283792734146, -0.006527951918542385, -0.014453821815550327, -0.008775080554187298, 0.01000801008194685, 0.01746247336268425, 0.01984071545302868, -0.021844198927283287, 0.04320558160543442, -0.003947752993553877, -0.018145008012652397, -0.00941016711294651, 0.054191894829273224, -0.04022802785038948, 0.0007734104874543846, -0.023874536156654358, 0.022252757102251053, 0.02279745042324066, 0.015569672919809818, -0.009364120662212372, -0.035477250814437866, 0.010111981071531773, 0.01257314532995224, 0.057332661002874374, 0.012425724416971207, 0.007591855246573687, 0.004431530367583036, -0.001972413156181574, 0.001427193870767951, -0.02801438421010971, 0.05862003564834595, -0.03920521214604378, -0.006484765559434891, -0.013987977057695389, 0.004694596864283085, -0.033597465604543686, 0.015693558380007744, -0.015316560864448547, 0.02432122454047203, -0.004716646391898394, 0.01613686978816986, -0.04162086546421051, 0.02425299771130085, 0.010368529707193375, 0.04355195164680481, -0.02483641542494297, -0.008637744002044201, 0.058086663484573364, -0.018440790474414825, -0.02330913208425045, 0.04108816012740135, 0.08370502293109894, 0.013087679632008076, 0.0030558232683688402, 0.0042795464396476746, -0.008301238529384136, -0.034910380840301514, -0.06144828349351883, 0.013083952479064465, -0.027636993676424026, 0.0069915540516376495, 0.030438769608736038, -0.04083777219057083, -0.01826993003487587, -0.0061885216273367405, 0.028488213196396828, 0.01710454933345318, 0.009145336225628853, -0.023381849750876427, 0.0019290983909741044, -0.06135924905538559, 0.003149121766909957, 0.056560736149549484, 0.031903091818094254, 0.002262663561850786, 0.022322237491607666, 0.02142973057925701, -0.021271785721182823, 0.04606711119413376, -0.021783508360385895, 0.04717305675148964, -0.025406742468476295, -0.029693283140659332, -0.029350902885198593, -0.017818447202444077, 0.015211829915642738, -0.03490298241376877, 0.06761720031499863, 0.04537805914878845, 0.014573607593774796, 0.037253137677907944, 0.06055714190006256, 0.011481713503599167, -0.028801489621400833, -0.03306375443935394, 0.01880611479282379, -0.02496056631207466, 0.005890552885830402, -0.02334892936050892, -0.07184643298387527, 0.010169671848416328, 0.01070397812873125, -0.021846866235136986, -0.031355179846286774, 0.011275154538452625, -0.017952239140868187, -0.007413557730615139, 0.028277195990085602, 0.002887427108362317, 0.01851813495159149, -0.009271807037293911, 0.00461078155785799, 0.06070029363036156, -0.023905975744128227, 0.04754918813705444, 0.052330173552036285, 0.02019648812711239, 0.04510284215211868, 0.019021492451429367, -0.0682193860411644, 0.024644440039992332, 0.0696403756737709, -0.001407646224834025, -0.04597172141075134, -0.021910224109888077, -0.00081650196807459, 0.002816339023411274, -0.018515774980187416, -0.001543574733659625, 0.04701825976371765, -0.029282452538609505, -0.020106475800275803, 0.0008200378506444395, -0.0009942774195224047, 0.03618011251091957, -0.00856779981404543, -0.0013909019762650132, -0.042364273220300674, 0.0015014612581580877, -0.006699006073176861, 0.01642751507461071, 0.021123401820659637, 0.005438791587948799, 0.0004221130511723459, 0.02427717298269272, 0.09454111009836197, 0.03039964661002159, 0.009470433928072453, -0.06436588615179062, -0.03943592682480812, 0.020854763686656952, -0.06324529647827148, -0.017567282542586327, 0.0569508858025074, -0.016049766913056374, 0.04354317486286163, -0.013321195729076862, 0.008689440786838531, -0.004338373430073261, -0.016545917838811874, 0.0570034421980381, -0.047638583928346634, 0.02132171392440796, -0.045196667313575745, 0.01122236717492342, -0.05087810754776001, -0.002818355103954673, 0.0016422172775492072, -0.03009740263223648, -0.0368092842400074, -0.08258000761270523, -0.002311787335202098, -0.025221578776836395, 0.024167168885469437, -0.03785330057144165, -0.03742710500955582, 0.07304976880550385, 0.045551907271146774, 0.029247982427477837, 0.013602904975414276, 0.040330879390239716, 0.029307957738637924, 0.0048219747841358185, -0.014332558959722519, 0.015608084388077259, 0.007284552790224552, 0.015127445571124554, 0.01981830969452858, 0.041889309883117676, 0.03477374464273453, -0.028430109843611717, -0.027038946747779846, 0.07744342088699341, -0.024083435535430908, 0.12659983336925507, -0.017755981534719467, -0.03832545131444931, 0.00043047938379459083, 0.0507245808839798, -0.0022585024125874043, -0.05982399359345436, 0.03838228061795235, -0.02192419022321701, -0.00027963329921476543, -0.04271003231406212, 0.006361670792102814, -0.013012080453336239, 0.0013297066325321794, -0.032433897256851196, 0.009615211747586727, 0.003947858233004808, -0.04646246135234833, 0.07996241003274918, -0.05340020731091499, -0.03614159673452377, 0.010893535800278187, -0.030876582488417625, 0.008195478469133377, -0.03929147869348526, -0.018496723845601082, 0.04834315925836563, -0.028015464544296265, -0.0030517091508954763, 0.02682456001639366, -0.025615522637963295, 0.015873750671744347, 0.01279644574970007, 0.04872315749526024, -0.023580677807331085, 0.033533837646245956, -0.01441970095038414, 0.029215576127171516, 0.00104424764867872, -0.01602114737033844, 0.007916999980807304, 0.00855544675141573, 0.029893483966588974, 0.024830583482980728, -0.022019939497113228, 0.0019613842014223337, -0.004074815660715103, -0.05451530963182449, 0.023423200473189354, 0.02861875668168068, 0.060347795486450195, 0.04135481268167496, 0.008577002212405205, 0.07112009823322296, 0.005624742247164249, -0.03859772905707359, -0.05017663910984993, 0.006786015350371599, -0.05047283694148064, 0.023317284882068634, -0.02661312185227871, 0.021710816770792007, 0.02246641181409359, -0.04477117955684662, 0.009444933384656906, -0.04772057384252548, 0.009765978902578354, -0.027580296620726585, -0.032195307314395905, 0.011362778954207897, 0.0099081601947546, -0.0019067579414695501, 0.0038819236215204, 0.03501927852630615, 0.018029291182756424, -0.02057248167693615, 0.01620776206254959, -0.02448488399386406, 0.03480176627635956, -0.02965613454580307, 0.00957399606704712, -0.019824868068099022, 0.021907800808548927, 0.015829134732484818, -0.040685005486011505, 0.016780275851488113, 0.018098799511790276, 0.026230985298752785, -0.04279746487736702, 0.023782622069120407, 0.0015839743427932262, 0.023586269468069077, 0.0380278080701828, 0.03469529375433922, 0.004874232225120068, -0.049456916749477386, 0.03917203098535538, 0.014682117849588394, -0.013694378547370434, 0.027567492797970772, 0.049112044274806976, 0.024204066023230553, 0.009159811772406101, -0.034788232296705246, 0.019469788298010826, -0.01470172218978405, 0.021548543125391006, -0.044082578271627426, -0.0038896326441317797, 0.05059461668133736, 0.018006686121225357, -0.004243907053023577, -0.0282861590385437, 0.021385669708251953, 0.02625233866274357, -0.004737232346087694, 0.0027288312558084726, 0.004226584453135729, 0.04088379815220833, -0.016553448513150215, -0.011949241161346436, 0.0012923757312819362, -0.0460444912314415, -0.03715609759092331, 0.07877565920352936, 0.018504435196518898, 0.037281494587659836, 0.05496597662568092, -0.03497485816478729, -0.024996379390358925, 0.012979959137737751, 0.03233673423528671, -0.03544541448354721, 0.031187405809760094, 0.002670186571776867, -0.01123216561973095, -0.02151014469563961, 0.04336098954081535, -0.04023450240492821, -0.03898254409432411, 0.03743690624833107, -0.004291854333132505, -0.038992591202259064, -0.02274838648736477, 0.010874325409531593, 0.01590299792587757, 0.048082370311021805, -0.026374658569693565, 0.0073965080082416534, -0.06373634189367294, 0.002999675227329135, 0.026595747098326683, 0.03906713053584099, -0.07124568521976471, -0.03463185578584671, 0.002189178019762039, -0.004081224091351032, 0.02810591459274292, 0.03959694132208824, -0.07998308539390564, 0.0027721633668988943, -0.000983717618510127, 0.05058503523468971, 0.0352928526699543, 0.030196212232112885, -0.009082960896193981, 0.012257987633347511, 0.021303150802850723, 0.036145783960819244, 0.00957871600985527, -0.019923392683267593, -0.011089193634688854, -0.04281672090291977, 0.031761787831783295, 0.05158117413520813, 0.028926165774464607, -0.014936217106878757, -0.08853673189878464, -0.0018857961986213923, -0.04186829924583435, 0.03558921441435814, 0.06683127582073212, 0.0014853145694360137, -0.030426649376749992, 0.06724972277879715, -0.023337382823228836, -0.028810931369662285, -0.051758065819740295, 0.010761549696326256, -0.04247933253645897, 0.00790155865252018, -0.005186786875128746, -0.0340813547372818, -0.0471942275762558, -0.007555535528808832, -0.008483869954943657, 0.0007985103875398636, 0.0075998068787157536, -0.04251035302877426, 0.014910113997757435, -0.04034353420138359, -0.012515692971646786, -0.008319307118654251, 0.018025599420070648, -0.0005193321849219501, 0.03460570424795151, 0.010565400123596191, 0.024112503975629807, -0.01532161608338356, 0.04757150635123253, 0.017892230302095413, -0.03705570474267006, 0.03889978304505348, 0.005048214457929134, 0.0007641896372660995, -0.032545436173677444, -0.02267277054488659, 0.024348784238100052, -0.005666640121489763]})"
      ]
     },
     "execution_count": 78,
     "metadata": {},
     "output_type": "execute_result"
    }
   ],
   "source": [
    "full_node = Node.from_components(\n",
    "    file=test, llm=llm_test\n",
    ")\n",
    "full_node"
   ]
  }
 ],
 "metadata": {
  "kernelspec": {
   "display_name": "graph-rag-tFs8MzM6-py3.12",
   "language": "python",
   "name": "python3"
  },
  "language_info": {
   "codemirror_mode": {
    "name": "ipython",
    "version": 3
   },
   "file_extension": ".py",
   "mimetype": "text/x-python",
   "name": "python",
   "nbconvert_exporter": "python",
   "pygments_lexer": "ipython3",
   "version": "3.12.4"
  }
 },
 "nbformat": 4,
 "nbformat_minor": 2
}
