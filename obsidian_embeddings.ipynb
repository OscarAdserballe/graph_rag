{
 "cells": [
  {
   "cell_type": "markdown",
   "metadata": {},
   "source": [
    "# Outline:\n",
    "\n",
    "## Pre-reqs\n",
    "1. FileNode model\n",
    "2. Embedding model\n",
    "3. LLM for featurisation\n",
    "\n",
    "## Execution \n",
    "1. Grab all files markdown files from Obsidian-vault\n",
    "2. Create FileNodes based on them\n",
    "3. Place them in small Neo4j database \n",
    "4. Embed them to get an EmbeddingNode\n",
    "5. Featurise to LLMNode\n",
    "6. Collect them to a full Node"
   ]
  },
  {
   "cell_type": "markdown",
   "metadata": {},
   "source": []
  },
  {
   "cell_type": "markdown",
   "metadata": {},
   "source": [
    "## Config"
   ]
  },
  {
   "cell_type": "code",
   "execution_count": 15,
   "metadata": {},
   "outputs": [],
   "source": [
    "BASE_LLM_MODEL = \"gemini-2.0-flash\"\n",
    "EMBEDDING_MODEL = \"text-embedding-004\""
   ]
  },
  {
   "cell_type": "markdown",
   "metadata": {},
   "source": [
    "# Pre-reqs"
   ]
  },
  {
   "cell_type": "markdown",
   "metadata": {},
   "source": [
    "### 1. Node model"
   ]
  },
  {
   "cell_type": "code",
   "execution_count": 16,
   "metadata": {},
   "outputs": [],
   "source": [
    "from datetime import datetime\n",
    "\n",
    "from pydantic import BaseModel, Field\n",
    "from datetime import datetime\n",
    "\n",
    "class FileNode(BaseModel):\n",
    "    \"\"\"Properties extracted directly from the file system and file content\"\"\"\n",
    "    primary_id: str = Field(description=\"Hash based on first and last 1024 characters of file uniquely identifying node.\\\n",
    "    Ontology of node is thus its content rather than anything reliant on metadata. Note issue with not registering changes in the middle\")\n",
    "    content: str = Field(description=\"The underlying content of the node\")\n",
    "    file_size: float = Field(description=\"Size of the node file in KB\")\n",
    "    file_creation_time: datetime = Field(description=\"Date the node was created\")\n",
    "    file_modification_time: datetime = Field(description=\"Date the node was last modified\")\n",
    "    filetype: str = Field(description=\"File type of the content\")\n",
    "    location: str = Field(description=\"Location of the node (e.g., Notion, Local Files, OneDrive)\")\n",
    "    path: str = Field(description=\"Path to the node file\")\n",
    " \n",
    "class LLMNode(BaseModel):\n",
    "    \"\"\"Properties derived from LLM analysis\"\"\"\n",
    "    label: str = Field(description=\"The type of content contained in the node\")\n",
    "    author: list[str] = Field(description=\"The author(s) of the content\")\n",
    "    research_question: str = Field(description=\"Research question addressed by the node content\")\n",
    "    main_argument: str = Field(description=\"Main argument of the node content\")\n",
    "    summary: str = Field(description=\"Summary of the node content\")\n",
    "    tags: list[str] = Field(description=\"Tags associated with the node\")\n",
    "    themes: list[str] = Field(description=\"Themes related to the node's content\")\n",
    "    keywords: list[str] = Field(description=\"Keywords related to the node's content\")\n",
    "    quotes: list[str] = Field(description=\"Notable quotes from the node. List only a couple based on the length of the text. For example, a short text should only have 2-3 while longer papers should be upwards of 10\")\n",
    "    content_creation_date: datetime = Field(description=\"When the node file was from\")\n",
    "    entities_persons: list[str] = Field(description=\"People mentioned in the node\")\n",
    "    entities_places: list[str] = Field(description=\"Places mentioned in the node\")\n",
    "    entities_organizations: list[str] = Field(description=\"Organizations mentioned in the node\")\n",
    "    entities_references: list[str] = Field(description=\"References mentioned in the node\")\n",
    "\n",
    "class EmbeddingNode(BaseModel):\n",
    "    \"\"\"Node's content in embedding space\"\"\"\n",
    "    content_embedding: list[float] = Field(description=\"Content of node in embedding space\")\n",
    "\n",
    "class Node(BaseModel):\n",
    "    \"\"\"Combined node with both file and LLM properties\"\"\"\n",
    "    file: FileNode\n",
    "    llm: LLMNode \n",
    "    embedding: EmbeddingNode "
   ]
  },
  {
   "cell_type": "markdown",
   "metadata": {},
   "source": [
    "### 1. Embeddign model"
   ]
  },
  {
   "cell_type": "markdown",
   "metadata": {},
   "source": [
    "Relevant parameters to be set:\n",
    "* Embedding model specialised to distinct task_types:\n",
    "    * Files will be embedded as `task_type=\"RETRIEVAL_DOCUMENT\"`\n",
    "    * And queries using `task_type=\"RETRIEVAL_QUERY\"`\n",
    "    \n"
   ]
  },
  {
   "cell_type": "code",
   "execution_count": 17,
   "metadata": {},
   "outputs": [
    {
     "data": {
      "text/plain": [
       "EmbedContentResponse(embeddings=[ContentEmbedding(values=[0.023835836, 0.032532666, -0.052185923, -0.019886132, 0.026069641, -0.0094205765, 0.0040515373, 0.04901829, -0.05772261, 0.02971936, 0.0033174066, 0.007165582, 0.03826761, 0.019403733, -0.0124670975, -0.07177179, 0.040335946, 0.0284832, -0.105195366, 0.0038846806, 0.035758987, -0.032837637, 0.031979468, -0.010537732, -0.013240267, -0.01915155, -0.009758277, 0.0014636988, -3.48189e-05, -0.006086665, 0.074584596, 0.047881678, 0.023218602, -0.047333293, 0.039103195, 0.0546853, 0.00990299, 0.043736435, 0.027497908, -0.033419862, -0.064396404, 0.008361147, -0.02442376, 0.04099201, -0.05026595, -0.039420515, -0.014952215, 0.076169856, -0.04816034, 0.024997566, 0.020614417, 0.08048106, -0.055345505, 0.027728302, -0.021067938, -0.030663263, -0.019208597, -0.003718978, 0.014299155, -0.025252145, 0.0031429396, -0.0041793208, -0.0034405375, -0.017077021, 0.03370819, -0.03766928, -0.019878464, -0.03647229, -0.053720966, 0.06277102, 0.001477938, 0.0020361205, -0.017900227, 0.0060213893, 0.016086476, -0.023882177, 0.05003533, -0.027659189, -0.006031463, 0.07230083, -0.038723934, 0.026218522, 0.040139448, 0.069801636, -0.01977367, 0.0011374522, 0.031762615, -0.07316719, 0.0019310015, -0.0076775784, 0.11310984, 0.070216686, 0.0010813093, -0.027649445, 0.04032629, -0.005811591, -0.1248409, -0.10114323, 0.1317091, 0.02600263, -0.026830811, 0.008232017, -0.036503956, -0.029137393, 0.021886475, 0.049414244, 0.017226122, -0.049160913, -0.010400374, 0.017592741, -0.024541805, -0.042055268, 0.027078042, 0.026658544, -0.017886128, 0.033710882, -0.016107216, -0.012926575, -0.027314037, 0.005875304, 0.0044533606, 0.049357217, -0.0010539739, 0.03521268, 0.026784647, 0.0076375934, 0.021944162, -0.005016109, -0.029457578, 0.0009965713, 0.047228396, -0.053583343, 0.030817648, 0.044509713, 0.0051242416, -0.030285751, 0.039713826, 0.046727937, 0.028079076, 0.05120007, -0.0043260814, -0.03351925, -0.03203982, -0.0011425555, -0.013355322, -0.026493791, 0.0454441, 0.039071195, -0.016746698, -0.062500924, -0.037465274, 0.0042309263, 0.054356612, 0.0026131766, 0.0071107503, 0.0011222543, 0.03307132, -0.051477056, 0.040453523, -0.022450333, 0.045353495, -0.060418304, -0.0016765861, -9.230198e-06, -0.03868784, 0.05332564, 0.015917908, -0.0710967, -0.011028727, -0.014659316, 0.00066906266, -0.032696657, 0.015409842, -0.1371469, 0.013784652, 0.020191694, -0.040808603, -0.0048838416, 0.028216511, 0.020554313, 0.086463206, 0.017366126, -0.026845789, -0.105008185, 0.031274147, 0.017347708, 0.06345905, -0.0014600956, 0.09963599, 0.04692109, 0.0066172485, 0.013645725, 0.024933418, 0.06337761, 0.0014462278, -0.005365153, 0.012371931, 0.018381342, -0.06421306, -0.046095055, 0.04652653, -0.02844132, -0.0015738006, -0.0024624013, 0.005692197, 0.05377142, -0.037937995, -0.040164366, 0.018877931, 0.034497056, -0.0011197537, -0.010061082, -0.0118886875, -0.044957675, 0.034288008, -0.010276015, 0.0442699, -0.02566899, 0.013962154, -0.0095785465, 0.03805277, 0.02856571, 0.045750245, 0.06818042, 0.036589414, 0.019109651, -0.052810464, 0.0011558728, 0.018906306, -0.036408443, -0.0019492415, 0.018797962, 0.053012572, 0.019741919, -0.069835156, -0.004025237, 0.043555986, -0.05364611, -0.0397914, -0.026969956, -0.023207096, 0.06233271, 0.04308291, 0.02463049, 0.059966154, -0.029678205, 0.072048955, -0.009688851, -0.0053554266, -0.011922082, -0.006979988, -0.054070406, -0.034874003, -0.023808079, -0.08089273, -0.027881164, 0.017092677, 0.0022447435, 0.020683108, -0.0057702586, 0.049433522, -0.015848562, 0.017276421, -0.08675664, -0.030313836, -0.07665285, -0.0038052544, -0.005841949, 0.066031225, -0.057730388, 0.04334624, -0.03047663, -0.056056283, -0.046785712, -0.009289302, 0.024994127, -0.0066966945, -0.02622138, 0.007377195, -0.038009923, 0.008677934, 0.023545008, 0.017376943, -0.0059575923, 0.008693177, -0.05038552, 0.010592942, 0.015746221, -0.014660327, -0.026419321, 0.06304182, 0.03075489, -0.008286532, -0.08174441, 0.037666865, 0.0070750997, 0.038145617, 0.00942567, -0.005723186, -0.02084129, 0.0037237837, 0.051483944, -0.03306046, 0.032114588, 0.011278332, 0.015407436, -0.05581618, -0.055645663, -0.034043185, 0.030790677, -0.018847855, 0.040801745, -0.013971581, -0.049557965, -0.031416755, -0.0517791, -0.17289306, -0.002665403, -0.033461854, 0.0124137765, 0.021985741, 0.029662652, 0.037889946, 0.020369975, -0.02655848, 0.004335645, -0.010186502, -0.006120767, 0.024126634, -0.013258046, 0.059351828, -0.012145133, -0.05096473, -0.05282337, 0.012132769, -0.018754423, -0.06854098, 0.0016465951, 0.064253934, 0.049582504, 0.03905601, -0.009176921, 0.045831263, 0.030572211, -0.020995319, -0.08524048, -0.02281657, -0.006823876, 0.027144533, 0.023559833, -0.013006701, 0.06481392, 0.013696871, -0.08035755, -0.02665777, -0.0053095734, 0.055338103, 0.004197784, -0.007994753, -0.008936551, 0.008261344, -0.018346082, -0.0035141879, -0.0017232473, 0.035260893, 0.01228748, 0.009236186, 0.042445887, -0.0468483, -0.06374025, -0.007462257, 0.045997337, -0.039529976, -0.011626245, 0.008469526, -0.016851706, -0.05059212, 0.004444929, -0.02488771, 0.037789237, -0.044112384, -0.011033672, -0.0008906566, 0.010584582, -0.024205633, 0.07901398, -0.036501795, -0.0013204844, 0.010950126, -0.023005959, -0.0017082174, 0.030961273, 0.012814374, -0.003811529, -0.031887442, 0.05685785, -0.0031436232, 0.02986963, -0.009448342, 0.006924311, -0.008558489, -0.06293457, 0.06180303, -0.035660356, -0.015883459, -0.0023673922, 0.05764007, 0.002224606, 0.0014694177, 0.048997868, -0.008572498, 0.02318783, -0.043200552, 0.004034398, -0.029707737, 0.009192148, 0.031961113, -0.017423498, -0.011912922, 0.027471794, -0.02507263, 0.014174707, -0.006800073, -0.004093291, 0.014866566, -0.073171295, -0.016666127, 0.008366227, -0.028429626, 0.0035430575, 0.042674273, 0.06317393, -0.0077966857, 0.11534072, 0.049694084, 0.028585693, -0.0037781983, 0.0026686967, -0.04450211, 0.019911991, 0.017688364, 0.00054690044, 0.022318054, 0.028611427, -0.033452652, 0.06101455, 0.04765816, 0.009194626, -0.0025767693, -0.036743693, -0.0054068966, 0.015042612, 0.015719365, -0.03517858, -0.05905491, -0.0025940186, -0.00016830613, 0.047763113, -0.0154634435, 0.019301806, -0.023010012, -0.028234567, 0.057878766, 0.005592922, 0.019796215, -0.009258565, 0.015874773, -0.0038224494, -0.010165134, 0.057243716, 0.02961166, -0.0017221683, 0.0417549, -0.007368664, -0.049162205, -0.011438261, -0.0033897627, -0.009803272, -0.01822179, 0.023387535, -0.021910662, 0.030904323, -0.024211675, 0.03206942, 0.06844305, -0.028357401, -0.021198692, 0.025834048, 0.008555447, 0.01424774, -0.020253731, 0.027103374, -0.00084035756, -0.01785995, 0.008197385, 0.003393398, -0.0033391202, -0.052452445, -0.010873671, 0.09010217, 0.05283163, -0.014690795, -0.00880375, -0.08632513, -0.032785527, 0.015519578, -0.03568047, -0.02612568, 0.04731883, -0.009079115, 0.032755807, -0.021857174, 0.01744344, 0.028576318, -0.035678454, 0.01777758, -0.041161686, 0.06460101, -0.04423275, 0.040819257, -0.026645917, 0.031207861, 0.04698855, -0.02270464, -0.010081982, 0.0010946221, 0.015405537, -0.02642184, 0.0059938068, -0.079509124, -0.040653177, 0.035056148, 0.011659918, 0.038423594, 0.017136706, 0.055757273, 0.04642841, 0.030330261, 0.019092945, -0.006423345, 0.01292696, 0.01310609, 0.005651272, 0.020722404, 0.050001904, 0.018616276, -0.0011380252, 0.054250803, 0.01132807, 0.07903219, 2.6100812e-05, -0.011232718, -0.02130087, -0.005770356, -0.03399897, -0.019187016, 0.01748459, -0.03178767, 0.005252212, -0.015275339, 0.01265003, -0.019225612, -0.017651051, -0.0021357888, -0.0060331994, 0.020358922, -0.009664303, 0.033489898, -0.053537745, 0.008076863, -0.014306911, -0.008390747, 0.019258315, -0.0099611785, 0.028920768, 0.0022247578, -0.05689261, 0.0342714, 0.054596506, -0.0022973807, -0.020099191, 0.008162567, 0.07271272, 0.007939599, 0.00201431, -0.011330077, 0.033325866, -0.0050906935, -0.025058841, 0.00062701217, -0.021451391, 0.052434873, 0.019720253, -0.05061296, -0.0018796606, 0.011129762, -0.031663716, 0.0377845, 0.024625266, 0.046783283, -0.021137381, 0.004077077, 0.041344218, 0.020471355, -0.029639227, -0.062591575, -0.012845701, -0.028208492, -0.045393128, -0.028731445, 0.0042661806, -0.0020871235, -0.044976756, -0.014009441, -0.037393674, -0.006658729, -0.039094716, 0.002563677, 0.019426994, 0.02512992, 0.019296732, -0.027905205, 0.024690084, -0.0080278795, -0.060142025, 0.008168881, -0.0003912295, 0.0027660392, 0.02000144, 0.051564775, -0.0015379834, 0.020897662, 0.027715027, -0.026744118, -0.04194704, -0.011817341, -0.005964917, -0.0050486233, -0.0007790146, -0.018237898, 0.030954903, 0.010880701, 0.086609885, 0.019653404, -0.03416039, 0.0379042, 0.035385128, 0.0010394771, -0.0072260494, 0.034856007, 0.019297436, 0.03311864, -0.0137456795, 0.02691893, -0.037833467, 0.020569354, -0.059060436, -0.008343947, 0.0019448304, -0.015457921, -0.006648159, -0.052390337, -0.033746354, 0.018642671, 0.008903782, -0.021152942, -0.004758038, 0.008149111, 0.02706622, 0.0025426345, 0.023593955, 0.0059712073, -0.020641325, 0.018263428, -0.042103093, 0.030311437, 0.042858783, 0.031940244, -0.009239262, 0.02787314, -0.024476744, -0.038792856, -0.014128725, -0.013432068, 0.0155118685, 0.032200694, 0.066131465, -0.015631566, -0.044545315, 0.0302359, -0.024461197, -0.053415067, -0.05520933, -0.006238083, -0.0035043869, 0.03442344, -0.013296728, -0.0042459196, -0.05041726, 0.01362702, -0.040512417, -0.0024289063, -0.015790837, -0.01992352, 0.025577532, 0.0017192878, 0.04349243, 0.030297609, -0.039262354, 0.002794407, -0.016994406, 0.0010160507, 0.040679425, 0.014562942, 0.0031950856, 0.015112749, 0.05792906, 0.043807887, 0.008864833, 0.014044239, 0.026451485, -0.015679635, 0.050717037, 0.0478033, 0.04022632, 0.006390662, -0.05000827, -0.03372886, -0.08105913, 0.06806641, 0.026409011, 0.0033774485, -0.013707741, -0.008955345, -0.009619101, -0.00981446, -0.006771041, -0.039085735, -0.03831552, -0.0009289974, 0.021293616, -0.03201088, -0.045142803, -0.0036565487, -0.05074799, 0.0018741942, -0.017886106, -0.035393678, -0.038605455, -0.022696165, -0.09103303, -0.012030004, -0.04687339, 0.015386822, 0.020773435, -0.031891603, -0.017645976, -0.021035153, 0.040775947, -0.010579079, -0.03628418, 0.079259716, -0.015215259, -0.013737144, -0.055522528, -0.025771366, 0.04687939, -0.07602902], statistics=None)], metadata=None)"
      ]
     },
     "execution_count": 17,
     "metadata": {},
     "output_type": "execute_result"
    }
   ],
   "source": [
    "from google import genai\n",
    "from google.genai.types import EmbedContentConfig\n",
    "\n",
    "import os\n",
    "import numpy as np\n",
    "\n",
    "class EmbeddingModel:\n",
    "    def __init__(\n",
    "            self,\n",
    "            model_name, \n",
    "            output_dimensionality: int=768,\n",
    "        ):\n",
    "        self.client = genai.Client(api_key=os.environ['GEMINI_API_KEY'])\n",
    "        self.model_name: str = model_name\n",
    "        self.output_dimensionality: int = output_dimensionality\n",
    "\n",
    "    def _embed_call(self, content: str | list[str], config: EmbedContentConfig) -> np.ndarray:\n",
    "        embedding = self.client.models.embed_content(\n",
    "            model=self.model_name,\n",
    "            contents=content,\n",
    "            config=config\n",
    "        )\n",
    "        return embedding\n",
    "    \n",
    "    def embed_query(self, query: str) -> np.ndarray:\n",
    "        return self._embed_call(\n",
    "            content=query,\n",
    "            config=EmbedContentConfig(\n",
    "                task_type=\"RETRIEVAL_QUERY\",\n",
    "                output_dimensionality=self.output_dimensionality\n",
    "            )\n",
    "        )\n",
    "    \n",
    "    def embed_file(self, file: str) -> np.ndarray:\n",
    "        return self._embed_call(\n",
    "            content=file,\n",
    "            config=EmbedContentConfig(\n",
    "                task_type=\"RETRIEVAL_DOCUMENT\",\n",
    "                output_dimensionality=self.output_dimensionality\n",
    "            )\n",
    "        )\n",
    "\n",
    "embedding_model = EmbeddingModel(model_name=EMBEDDING_MODEL)\n",
    "embedding_model.embed_file(\"test\")"
   ]
  },
  {
   "cell_type": "markdown",
   "metadata": {},
   "source": [
    "### 3. LLM model with structured output"
   ]
  },
  {
   "cell_type": "code",
   "execution_count": 18,
   "metadata": {},
   "outputs": [],
   "source": [
    "import os\n",
    "import time\n",
    "import logging\n",
    "from pathlib import Path\n",
    "from typing import Any, List, Union\n",
    "import PIL.Image\n",
    "\n",
    "from google import genai\n",
    "\n",
    "\n",
    "logger = logging.getLogger(__name__)\n",
    "logger.setLevel(logging.INFO)\n",
    "\n",
    "class GeminiFiles:\n",
    "    \"\"\"\n",
    "    A client for interacting with the Gemini API with automatic retry on timeouts.\n",
    "    \"\"\"\n",
    "    def __init__(self, response_schema: Any, model_name: str = BASE_LLM_MODEL):\n",
    "        self.api_key = os.getenv(\"GEMINI_API_KEY\")\n",
    "        if not self.api_key:\n",
    "            raise ValueError(\"GEMINI_API_KEY environment variable is not set.\")\n",
    "        self.client = genai.Client(api_key=self.api_key)\n",
    "        self.model_name = model_name\n",
    "        self.response_schema = response_schema\n",
    "\n",
    "    def _call_api_with_retry(self, contents: List[Any], config: dict, retries: int = 3, delay: int = 5):\n",
    "        for attempt in range(retries):\n",
    "            try:\n",
    "                response = self.client.models.generate_content(\n",
    "                    model=self.model_name,\n",
    "                    contents=contents,\n",
    "                    config=config\n",
    "                )\n",
    "                return response\n",
    "            except Exception as e:\n",
    "                # If a timeout error is detected in the exception message, retry.\n",
    "                if attempt < retries - 1:\n",
    "                    logger.warning(\"API timeout detected (attempt %d/%d). Retrying in %d seconds...\", attempt+1, retries, delay)\n",
    "                    time.sleep(delay)\n",
    "                    continue\n",
    "                logger.exception(\"API call failed: %s\", e)\n",
    "                raise\n",
    "\n",
    "    def prompt_with_image(self, prompt: str, image_paths: Union[Path, List[Path]]) -> Any:\n",
    "        \"\"\"\n",
    "        Sends a prompt along with one or more images to the Gemini API and returns the parsed response.\n",
    "        \"\"\"\n",
    "        try:\n",
    "            if isinstance(image_paths, Path):\n",
    "                image_paths = [image_paths]\n",
    "\n",
    "            images = []\n",
    "            for path in image_paths:\n",
    "                try:\n",
    "                    image = PIL.Image.open(path)\n",
    "                    images.append(image)\n",
    "                except Exception as e:\n",
    "                    logger.error(\"Failed to open image %s: %s\", path, e)\n",
    "                    continue\n",
    "\n",
    "            contents = [prompt] + images\n",
    "            config = {\n",
    "                \"response_mime_type\": \"application/json\",\n",
    "                \"response_schema\": self.response_schema\n",
    "            }\n",
    "            response = self._call_api_with_retry(contents, config)\n",
    "            return response.parsed\n",
    "        except Exception as e:\n",
    "            logger.exception(\"Error in prompt_with_image: %s\", e)\n",
    "            raise\n",
    "\n",
    "    def query(self, prompt: str) -> Any:\n",
    "        \"\"\"\n",
    "        Sends a text prompt to the Gemini API and returns the parsed response.\n",
    "        \"\"\"\n",
    "        try:\n",
    "            config = {\n",
    "                \"response_mime_type\": \"application/json\",\n",
    "                \"response_schema\": self.response_schema\n",
    "            }\n",
    "            response = self._call_api_with_retry([prompt], config)\n",
    "            return response.parsed\n",
    "        except Exception as e:\n",
    "            logger.exception(\"Error in query: %s\", e)\n",
    "            raise"
   ]
  },
  {
   "cell_type": "markdown",
   "metadata": {},
   "source": [
    "# Execution"
   ]
  },
  {
   "cell_type": "markdown",
   "metadata": {},
   "source": [
    "### 1. Grabbing all files from Obsidian-vault"
   ]
  },
  {
   "cell_type": "code",
   "execution_count": 22,
   "metadata": {},
   "outputs": [
    {
     "data": {
      "text/plain": [
       "1309"
      ]
     },
     "execution_count": 22,
     "metadata": {},
     "output_type": "execute_result"
    }
   ],
   "source": [
    "from pathlib import Path\n",
    "path_to_obsidian = Path(\"~/Google Drive/My Drive/Obsidian\").expanduser().resolve()\n",
    "\n",
    "for i in path_to_obsidian.rglob(\"*.md\"):\n",
    "    counter += 1"
   ]
  },
  {
   "cell_type": "markdown",
   "metadata": {},
   "source": [
    "### 2. Placing them inside FileNode model"
   ]
  },
  {
   "cell_type": "code",
   "execution_count": null,
   "metadata": {},
   "outputs": [],
   "source": [
    "import hashlib\n",
    "\n",
    "def hash_file(self, file_path: Path) -> str:\n",
    "    \"\"\"Create a hash of the file based on its content and metadata.\"\"\"\n",
    "    file_stat = os.stat(file_path)\n",
    "    file_size = file_stat.st_size\n",
    "    mod_time = file_stat.st_mtime # modification time invariant to changing file content\n",
    "        \n",
    "    # Read the entire content for small files, or first and last 1024 bytes for larger files\n",
    "    with open(file_path, 'rb') as f:\n",
    "        if file_size <= 2*HASH_BASE_SIZE:  # If file is 2KB or smaller, read entire file\n",
    "            file_content = f.read()\n",
    "        else:\n",
    "            first_bytes = f.read(HASH_BASE_SIZE)\n",
    "            f.seek(-HASH_BASE_SIZE, 2)  # Seek to 1024 bytes from the end\n",
    "            last_bytes = f.read()\n",
    "            file_content = first_bytes + last_bytes\n",
    "    \n",
    "    hash_input = f\"{file_size}_{mod_time}_{file_content}\"\n",
    "    \n",
    "    return hashlib.md5(hash_input.encode()).hexdigest()\n"
   ]
  },
  {
   "cell_type": "code",
   "execution_count": null,
   "metadata": {},
   "outputs": [],
   "source": []
  }
 ],
 "metadata": {
  "kernelspec": {
   "display_name": "yesterdays-wisdom-tRY_nEK5-py3.12",
   "language": "python",
   "name": "python3"
  },
  "language_info": {
   "codemirror_mode": {
    "name": "ipython",
    "version": 3
   },
   "file_extension": ".py",
   "mimetype": "text/x-python",
   "name": "python",
   "nbconvert_exporter": "python",
   "pygments_lexer": "ipython3",
   "version": "3.12.4"
  }
 },
 "nbformat": 4,
 "nbformat_minor": 2
}
